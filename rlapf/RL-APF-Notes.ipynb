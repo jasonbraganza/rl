{
 "cells": [
  {
   "cell_type": "markdown",
   "metadata": {},
   "source": [
    "Python Advanced Data Structures - 6 days, starting 23th, Thurs. (not counting Sunday, should be absolutely done by Wednesday the 29th.)\n",
    "\n",
    "\n",
    "<!-- TEASER_END -->  \n",
    "  \n",
    "  \n",
    "## Notes  \n",
    "  \n",
    "\n",
    "  \n",
    "---  \n",
    "  \n",
    "\n",
    "## Learning / Feedback/ Experiences from doing exercises   \n",
    "  \n",
    "  \n",
    "[Read all about my Python Functions journey here][mjbapf]\n",
    "  \n",
    "  \n",
    "\n",
    "---    \n",
    "\n",
    "[mjbapf]: https://janusworx.com/categories/python-functions/\n",
    "[rlapf]: https://store.lerner.co.il/advanced-python-functions/\n",
    "\n"
   ]
  },
  {
   "cell_type": "markdown",
   "metadata": {},
   "source": [
    "# 2020-07-23 \n",
    "\n",
    "\n",
    "Delving deeper into Python functions and learning more about them, using [Reuven Lerner’s Advanced Python Functions Course][rlapf]  \n",
    "\n",
    "  \n",
    "\n",
    "<!-- TEASER_END -->  \n",
    " \n",
    " \n",
    "## Notes\n",
    "  \n",
    "  \n",
    "- The `co_*` series of attributes *inside* the `__code__` attribute  inside most functions gives a wealth of information about a function.  \n",
    "    - For example, looking up the argcount attribute for some function hello,  with `hello.__code__.co_argcount` will give us the number of arguments `hello` takes.  \n",
    "    - And doing a `hello.__code__.co_varnames` will give us a tuple of all the local variables in a function  \n",
    "    - `hello.__code__.co_code` contains the compiled bytecode for the function.  \n",
    "        - Importing the disassembler `import dis` and running it on the bytecode, `dis.dis(hello)` will show us what’s in there. \n",
    "    - `hello.__code__.co_flags` keeps a track of whether the function has \\* arguments or not via a binary switch. (It holds many parameters, one of which is the on/off switch for \\*args)  \n",
    "        - if said switch is set, the function checks for such arguments at runtime and turns them into a tuple to process.  \n",
    "        - they are set for \\*args via the `hello.__code__co_argcount` switch (0/1) and for keyword arguments with the `hello.__code__.co_kwonlyargcount` switch.   \n",
    "- the `__defaults__` attribute keeps all the functions default variable values. If I don’t supply a value to some parameter, the function will look in here, to see if a default value exists. `hello.__defaults__` could hold a last name default, for example, if I want my hello function to work even if no last name was supplied, and it actually expected a full name.  \n",
    "    - do ***not*** use mutable defaults. an empty list or dictionary for example.  \n",
    "    - set the default to `None` first in such case and then create the list when the function runs at runtime.   \n",
    "- The last thing I learnt about were nested functions.\n",
    "    - I can nest them two/three/as many levels deep as I wish. Practically, most folks do two or three.\n",
    "    - When an inner function takes the variables of its enclosure and does something with it and returns stuff?… those kinds of functions are called closures.\n",
    "\n",
    "\n",
    "---  \n",
    "  \n",
    "## Learning / Feedback/ Experiences from doing exercises \n",
    "  \n",
    "- The course so far is Reuven making simple functions and then breaking them down and explaining functionality in *painstaking detail*.   \n",
    "- Reuven is an awesome teacher! I would gush about him every post, but then it would get too much 😂. So once per course is good  \n",
    "- I kept looking at the disassembled code and wondering, what language it was. I still don’t know. My ‘educated’ guess is that it is a level of standard pseudo-assembly code for some phantom standardised processor. Once I had that mental model in mind though, all of it started making a lot more sense. This brought memories of Z80 assembly, I learnt in the mid 90s  \n",
    "- This was fun to do! Onwards to Advanced Objects!\n",
    "  \n",
    "  \n",
    "[Read all about my Python Functions journey here][mjbapf]\n",
    "\n",
    "\n",
    "\n",
    "---    \n",
    "\n",
    "[mjbapf]: https://janusworx.com/categories/python-functions/\n",
    "[rlapf]: https://store.lerner.co.il/advanced-python-functions/"
   ]
  },
  {
   "cell_type": "code",
   "execution_count": null,
   "metadata": {},
   "outputs": [],
   "source": []
  }
 ],
 "metadata": {
  "kernelspec": {
   "display_name": "Python 3",
   "language": "python",
   "name": "python3"
  },
  "language_info": {
   "codemirror_mode": {
    "name": "ipython",
    "version": 3
   },
   "file_extension": ".py",
   "mimetype": "text/x-python",
   "name": "python",
   "nbconvert_exporter": "python",
   "pygments_lexer": "ipython3",
   "version": "3.7.6"
  }
 },
 "nbformat": 4,
 "nbformat_minor": 4
}
