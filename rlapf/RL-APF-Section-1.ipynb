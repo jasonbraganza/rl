{
 "cells": [
  {
   "cell_type": "markdown",
   "metadata": {},
   "source": [
    "(1) Write a function, transform_files, that takes any number\n",
    "    of filenames as arguments, and two optional keyword-only\n",
    "    arguments:\n",
    "\n",
    "    - suffix, which defaults to the string \"new\"\n",
    "    - function, which defaults to len\n",
    "\n",
    "    The function will iterate over the filenames it receives, applying\n",
    "    the function to each filename.  The output from the function will\n",
    "    be stored in a new file of the same name as the original filename,\n",
    "    but with the suffix appended.\n",
    "\n",
    "    So if we call\n",
    "\n",
    "        transform_files('a.txt', 'b.txt', 'c.txt')\n",
    "\n",
    "    The files a.txt.new and b.txt.new and c.txt.new will all\n",
    "    have the content \"5\", because the filename is 5 characters\n",
    "    long.  You can pass whatever function you want instead.\n",
    "    \n",
    "    "
   ]
  },
  {
   "cell_type": "code",
   "execution_count": 11,
   "metadata": {},
   "outputs": [],
   "source": [
    "def tf(*file_names, suffix='new', fn=len):\n",
    "    for each_file in file_names:\n",
    "        with open(f'{each_file}.{suffix}', 'w') as output:\n",
    "            output.write(str(fn(each_file)))"
   ]
  },
  {
   "cell_type": "code",
   "execution_count": 12,
   "metadata": {},
   "outputs": [],
   "source": [
    "tf('addbk.xsv')"
   ]
  },
  {
   "cell_type": "markdown",
   "metadata": {},
   "source": [
    " (2) Write a function, combine_dicts, that takes any number of dicts as\n",
    "    arguments.  The output from the function is a new dict that merges\n",
    "    all of the keys and values together.  The values will always be in\n",
    "    a list, even if there is only one value.\n",
    "\n",
    "    The function takes a single keyword argument, maxvalues, an\n",
    "    integer indicating the maximum number of values that should be\n",
    "    associated with a key.  (Just take the first maxvalues\n",
    "    elements in a list.)\n",
    "\n",
    "    So if we call\n",
    "\n",
    "    d1 = {'a':1, 'b':2, 'c':3, 'd':4}\n",
    "    d2 = {'c':10, 'd':20, 'e':30}\n",
    "    d3 = {'d':200, 'e':300, 'f':400}\n",
    "\n",
    "    combine_dicts(d1, d2, d3)\n",
    "\n",
    "    the result will be\n",
    "\n",
    "    {'a':[1], 'b':[2] 'c':[3,10],\n",
    "     'd':[4, 20, 200], 'e':[30, 300],\n",
    "     'f':[400]}\n",
    "\n",
    "    But if we call\n",
    "\n",
    "    combine_dicts(d1, d2, d3, maxvalues=2)\n",
    "\n",
    "    the result will be\n",
    "    \n",
    "    \n",
    "    {'a':[1], 'b':[2] 'c':[3,10],\n",
    "     'd':[4, 20, 200], 'e':[30, 300],\n",
    "     'f':[400]}\n",
    "\n",
    "    But if we call\n",
    "\n",
    "    combine_dicts(d1, d2, d3, maxvalues=2)\n",
    "\n",
    "    the result will be\n",
    "\n",
    "    {'a':[1], 'b':[2], 'c':[3,10], 'd':[4, 20],\n",
    "     'e':[30, 300], 'f':[400]}\n",
    "    "
   ]
  },
  {
   "cell_type": "code",
   "execution_count": 16,
   "metadata": {},
   "outputs": [],
   "source": [
    "# could not get this one. did this with the help of Reuven’s solution\n",
    "\n",
    "def combine_dicts(*dicts, maxvalues=None):\n",
    "    output = {}\n",
    "    for each_dict in dicts:\n",
    "        for k,v in each_dict.items():\n",
    "            if k in output:\n",
    "                if maxvalues is None or maxvalues > len(output[k]):\n",
    "                    output[k].append(v)\n",
    "            else:\n",
    "                output[k]=[v]\n",
    "    return output"
   ]
  },
  {
   "cell_type": "code",
   "execution_count": 17,
   "metadata": {},
   "outputs": [],
   "source": [
    "d1 = {'a':1, 'b':2, 'c':3, 'd':4}\n",
    "d2 = {'c':10, 'd':20, 'e':30}\n",
    "d3 = {'d':200, 'e':300, 'f':400}"
   ]
  },
  {
   "cell_type": "code",
   "execution_count": 19,
   "metadata": {},
   "outputs": [
    {
     "data": {
      "text/plain": [
       "{'a': [1], 'b': [2], 'c': [3, 10], 'd': [4, 20], 'e': [30, 300], 'f': [400]}"
      ]
     },
     "execution_count": 19,
     "metadata": {},
     "output_type": "execute_result"
    }
   ],
   "source": [
    "combine_dicts(d1, d2, d3, maxvalues=2)"
   ]
  },
  {
   "cell_type": "code",
   "execution_count": null,
   "metadata": {},
   "outputs": [],
   "source": []
  }
 ],
 "metadata": {
  "kernelspec": {
   "display_name": "Python 3",
   "language": "python",
   "name": "python3"
  },
  "language_info": {
   "codemirror_mode": {
    "name": "ipython",
    "version": 3
   },
   "file_extension": ".py",
   "mimetype": "text/x-python",
   "name": "python",
   "nbconvert_exporter": "python",
   "pygments_lexer": "ipython3",
   "version": "3.7.6"
  }
 },
 "nbformat": 4,
 "nbformat_minor": 4
}
