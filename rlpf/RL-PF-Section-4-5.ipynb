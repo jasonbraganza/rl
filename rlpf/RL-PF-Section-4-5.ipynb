{
 "cells": [
  {
   "cell_type": "code",
   "execution_count": 34,
   "metadata": {},
   "outputs": [],
   "source": [
    "# (1) Define a \"calcmany\" function that takes a string (one of +, -, *,\n",
    "#     and /) and any number of numbers.  The string will indicate what\n",
    "#     mathematical operation we'll invoke on each of the numbers,\n",
    "#     starting with the first pair of numbers, and going through the\n",
    "#     rest.\n",
    "\n",
    "#     Thus, calcmany(\"+\", 100, 10, 2) will return 112, while\n",
    "#     calcmany(\"/\", 100, 10, 2, 5) will return 1 -- because 100/10 is 10,\n",
    "#     10/2 is 5, and 5/1 is 1.\n",
    "\n",
    "def calcmany(operator='+', *numbers):\n",
    "    if operator == '+':\n",
    "        total = 0\n",
    "        for number in numbers:\n",
    "            total += number\n",
    "        return total\n",
    "    elif operator == '-':\n",
    "        total = numbers[0]\n",
    "        for number in numbers[1:]:           \n",
    "            total = total - number\n",
    "        return total\n",
    "    elif operator == '*':\n",
    "        total = numbers[0]\n",
    "        for number in numbers[1:]:           \n",
    "            total = total * number\n",
    "        return total\n",
    "    elif operator == '/':\n",
    "        total = numbers[0]\n",
    "        for number in numbers[1:]:           \n",
    "            total = total / number\n",
    "        return total\n",
    "    else:\n",
    "        print(f'Operator not recognised')\n",
    "        return None"
   ]
  },
  {
   "cell_type": "code",
   "execution_count": 36,
   "metadata": {},
   "outputs": [
    {
     "data": {
      "text/plain": [
       "2.5"
      ]
     },
     "execution_count": 36,
     "metadata": {},
     "output_type": "execute_result"
    }
   ],
   "source": [
    "calcmany('/', 10,2,2)"
   ]
  },
  {
   "cell_type": "code",
   "execution_count": 75,
   "metadata": {},
   "outputs": [],
   "source": [
    "# (2) Define a function that takes one mandatory argument (the name of\n",
    "#     an output file), any number of additional arguments (names of\n",
    "#     input files), and an optional argument (\"separator\") that defaults\n",
    "#     to an empty string.  The function, when called, should read\n",
    "#     through each of the lines in the input files and write them in the\n",
    "#     named output file. Between the contents of each file, the\n",
    "#     separator should be written.\n",
    "\n",
    "\n",
    "\n",
    "def data(outfile, *filenames, separator='*'):\n",
    "    outfile=outfile\n",
    "    data_to_write = []\n",
    "    \n",
    "    for eachfile in filenames:\n",
    "        filecontent = open(eachfile)\n",
    "        for eachline in filecontent:\n",
    "            data_to_write.append(eachline)\n",
    "        data_to_write.append('\\n' + separator+'\\n')\n",
    "    \n",
    "    get_ready_to_write = open(outfile, 'w')\n",
    "    for eachelement in data_to_write:\n",
    "        get_ready_to_write.write(eachelement)\n",
    "    get_ready_to_write.close()\n",
    "\n",
    "# Reuven’s solution\n",
    "# def all_lines(outfilename, *infilenames, separator=''):\n",
    "#     with open(outfilename, 'w') as outfile:\n",
    "#         fore one_filename in infilenames:\n",
    "#             for one_line in open(one_filename):\n",
    "#                 outfile.write(one_line)\n",
    "#             outfile.write(separator)\n",
    "\n",
    "            "
   ]
  },
  {
   "cell_type": "code",
   "execution_count": 76,
   "metadata": {},
   "outputs": [],
   "source": [
    "data('sample/out.txt','sample/test.md', 'sample/testfile.txt')"
   ]
  },
  {
   "cell_type": "code",
   "execution_count": 85,
   "metadata": {},
   "outputs": [
    {
     "name": "stdout",
     "output_type": "stream",
     "text": [
      "Gimme a line, any line! Mary had a little lamb\n"
     ]
    },
    {
     "data": {
      "text/plain": [
       "'Your line is 18 characters long'"
      ]
     },
     "execution_count": 85,
     "metadata": {},
     "output_type": "execute_result"
    }
   ],
   "source": [
    "# (3) Define a function, \"each_len\", that takes any number of arguments,\n",
    "#     runs \"len\" on each of them, and returns the result.  For example,\n",
    "#     each_len('abcd', 'efg', 'hijkl') will return 12.\n",
    "\n",
    "#     Now ask the user to enter a sentence. Turn that sentence into a\n",
    "#     list of strings, and use \"each_len\" to calculate the total length\n",
    "#     of the words in that sentence.\n",
    "\n",
    "def each_len(*things):\n",
    "    total = 0\n",
    "    for each_thing in things:\n",
    "        total += len(each_thing)\n",
    "    return(f'Your line is {total} characters long')\n",
    "\n",
    "get_a_line = input('Gimme a line, any line! ').strip().split()\n",
    "each_len(*get_a_line) # the * will take each split word and count the characters in those too.)\n"
   ]
  },
  {
   "cell_type": "code",
   "execution_count": 93,
   "metadata": {},
   "outputs": [],
   "source": [
    "# (1) Write a function (\"category_sum\") that takes any keyword arguments\n",
    "#     with integer values. The output should be a dictionary with two\n",
    "#     keys (\"vowels\" and \"consonants\") whose values will be the total of\n",
    "#     the values passed to **kwargs.  Thus, if you call\n",
    "\n",
    "#         category_sum(a=1, b=2, c=3, d=4, e=5)\n",
    "\n",
    "#     then the output will be\n",
    "\n",
    "#         {'vowels':6, 'consonants':9}\n",
    "\n",
    "\n",
    "\n",
    "def category_sum(**letters):\n",
    "    vowels = 0\n",
    "    consonants = 0\n",
    "    for letter, quantity in letters.items():\n",
    "        if letter in 'aeiou':\n",
    "            vowels += quantity\n",
    "        else:\n",
    "            consonants += quantity\n",
    "    return(vowels, consonants)"
   ]
  },
  {
   "cell_type": "code",
   "execution_count": 94,
   "metadata": {},
   "outputs": [
    {
     "data": {
      "text/plain": [
       "(30, 86)"
      ]
     },
     "execution_count": 94,
     "metadata": {},
     "output_type": "execute_result"
    }
   ],
   "source": [
    "category_sum(a=10, b=10, c=10, d=22, e=10, u=10, f=44)"
   ]
  },
  {
   "cell_type": "code",
   "execution_count": 20,
   "metadata": {},
   "outputs": [],
   "source": [
    "# (2) Write a function (\"xml\") that returns a string containing a single\n",
    "#     XML tag with optional content and optional attributes.  The content\n",
    "#     might already contain XML.  Thus, calling\n",
    "\n",
    "#         xml('foo')\n",
    "\n",
    "#     will return the string\n",
    "\n",
    "#         <foo></foo>\n",
    "\n",
    "#     with the opening and closing tags.  And calling\n",
    "\n",
    "#         xml('foo', 'bar')\n",
    "\n",
    "#     will return the string\n",
    "\n",
    "#         <foo>bar</foo>\n",
    "\n",
    "#     with the content \"bar\" between the opening and closing tags.  And if we call\n",
    "\n",
    "#         xml('foo', 'bar', a=1, b=2, c=3)\n",
    "\n",
    "#     then we'll get the string\n",
    "\n",
    "#         <foo a=\"1\" b=\"2\" c=\"3\">bar</foo>\n",
    "\n",
    "\n",
    "def xml(tag, content='', **xmlattrs):\n",
    "     if xmlattrs:\n",
    "        xmlattrslist=[]\n",
    "        for key, value in xmlattrs.items():\n",
    "            xmlattrslist.append(f'{key}=\"{value}\"')\n",
    "        xmlattrsstring=(' '.join(xmlattrslist))\n",
    "         \n",
    "        \n",
    "            return f'<{tag} {xmlattrsstring}>{content}</{tag}>'\n",
    "    else:\n",
    "        return f'<{tag}>{content}</{tag}>'\n",
    "  "
   ]
  },
  {
   "cell_type": "code",
   "execution_count": 22,
   "metadata": {},
   "outputs": [
    {
     "data": {
      "text/plain": [
       "'<test a=\"1\" b=\"2\">oaneuhotnaoeuhn</test>'"
      ]
     },
     "execution_count": 22,
     "metadata": {},
     "output_type": "execute_result"
    }
   ],
   "source": [
    "xml('test', 'oaneuhotnaoeuhn', a=1, b=2)"
   ]
  },
  {
   "cell_type": "code",
   "execution_count": null,
   "metadata": {},
   "outputs": [],
   "source": [
    "# (1) Consider this code:\n",
    "\n",
    "#     x = 3\n",
    "\n",
    "#     def foo(x):\n",
    "#         return bar(x) * 10\n",
    "\n",
    "#     def bar(x):\n",
    "#         return baz(x) * 10\n",
    "\n",
    "#     def baz(x):\n",
    "#         return x * 5\n",
    "\n",
    "\n",
    "#     print(foo(3))\n",
    "\n",
    "#     First: What will be printed? 1500 (or error, because baz is defined later than bar is defined later than foo)\n",
    "#     Second: How many different variables are in this code?  Which are local, and which are global?  one global\n",
    "#     Third: Why don't the various \"x\" variables conflict with one another? they are properly scoped."
   ]
  },
  {
   "cell_type": "code",
   "execution_count": 16,
   "metadata": {},
   "outputs": [],
   "source": [
    "# (2) Write an \"add\" function that takes two numeric arguments, and\n",
    "#     returns the sum of those arguments.  Before returning the sum, the\n",
    "#     function should append that value to a global list, called \"results\".  Now write a function,\n",
    "#     \"reset_results\", which resets all of the values in the \"results\" list.\n",
    "\n",
    "results = []\n",
    "def add(num1, num2):\n",
    "    results.append(num1+num2)\n",
    "    return results\n",
    "def reset_results():\n",
    "    results.clear()"
   ]
  },
  {
   "cell_type": "code",
   "execution_count": 17,
   "metadata": {},
   "outputs": [
    {
     "data": {
      "text/plain": [
       "[5]"
      ]
     },
     "execution_count": 17,
     "metadata": {},
     "output_type": "execute_result"
    }
   ],
   "source": [
    "add(1,4)"
   ]
  },
  {
   "cell_type": "code",
   "execution_count": 18,
   "metadata": {},
   "outputs": [],
   "source": [
    "reset_results()"
   ]
  },
  {
   "cell_type": "code",
   "execution_count": 19,
   "metadata": {},
   "outputs": [
    {
     "data": {
      "text/plain": [
       "[]"
      ]
     },
     "execution_count": 19,
     "metadata": {},
     "output_type": "execute_result"
    }
   ],
   "source": [
    "results"
   ]
  },
  {
   "cell_type": "code",
   "execution_count": null,
   "metadata": {},
   "outputs": [],
   "source": []
  }
 ],
 "metadata": {
  "kernelspec": {
   "display_name": "Python 3",
   "language": "python",
   "name": "python3"
  },
  "language_info": {
   "codemirror_mode": {
    "name": "ipython",
    "version": 3
   },
   "file_extension": ".py",
   "mimetype": "text/x-python",
   "name": "python",
   "nbconvert_exporter": "python",
   "pygments_lexer": "ipython3",
   "version": "3.7.6"
  }
 },
 "nbformat": 4,
 "nbformat_minor": 4
}
