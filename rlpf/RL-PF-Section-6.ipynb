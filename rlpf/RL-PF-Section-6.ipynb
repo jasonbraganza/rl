{
 "cells": [
  {
   "cell_type": "code",
   "execution_count": 6,
   "metadata": {},
   "outputs": [
    {
     "name": "stdout",
     "output_type": "stream",
     "text": [
      "Enter a line: mary had a little lamb\n"
     ]
    },
    {
     "data": {
      "text/plain": [
       "['a', 'had', 'lamb', 'little', 'mary']"
      ]
     },
     "execution_count": 6,
     "metadata": {},
     "output_type": "execute_result"
    }
   ],
   "source": [
    "# (1) Ask the user to enter a sentence. Sort the words alphabetically, ignoring capitalization.\n",
    "\n",
    "def sort_alpha(line):\n",
    "    return sorted(line.strip().split())\n",
    "\n",
    "get_a_line = input('Enter a line: ')\n",
    "\n",
    "sort_alpha(get_a_line)"
   ]
  },
  {
   "cell_type": "code",
   "execution_count": 4,
   "metadata": {},
   "outputs": [],
   "source": [
    "# (2) Write a function that takes a function, as well as any number of\n",
    "#     positional arguments. The arguments should all be\n",
    "#     filenames. Return a dictionary whose keys are the filenames and\n",
    "#     the values are the results of invoking the function on each\n",
    "#     filename.\n",
    "\n",
    "def makin_dicts(somefunc, *args):\n",
    "    results_dict = {}\n",
    "    for each_arg in args:\n",
    "        results_dict[each_arg]=somefunc(each_arg)\n",
    "    return results_dict"
   ]
  },
  {
   "cell_type": "code",
   "execution_count": 6,
   "metadata": {},
   "outputs": [
    {
     "data": {
      "text/plain": [
       "{'sample/testfile.txt': 'SAMPLE/TESTFILE.TXT',\n",
       " 'sample/out.txt': 'SAMPLE/OUT.TXT'}"
      ]
     },
     "execution_count": 6,
     "metadata": {},
     "output_type": "execute_result"
    }
   ],
   "source": [
    "makin_dicts(str.upper, 'sample/testfile.txt', 'sample/out.txt')"
   ]
  },
  {
   "cell_type": "code",
   "execution_count": 26,
   "metadata": {},
   "outputs": [],
   "source": [
    "# (3) Create a dispatch table in which each function takes one or more\n",
    "#     positional arguments. Then ask the user to repeatedly enter a\n",
    "#     string, in which the first word will be the key to the dispatch\n",
    "#     table, and the rest of the line will be treated as a list of\n",
    "#     arguments.  Make it possible for an end user to invoke a function via\n",
    "#     a command.\n",
    "\n",
    "# def sayhello(*args):\n",
    "#     print(f'Hello {args}')\n",
    "    \n",
    "# def add_nos(*args):\n",
    "#     total = 0\n",
    "#     for each_arg in args:\n",
    "#         total += int(args)\n",
    "\n",
    "# talkydict = {'hi': sayhello,\n",
    "#             'addnums': add_nos}\n",
    "\n",
    "# def hi_or_sum(*args):\n",
    "#     if args[0] in talkydict:\n",
    "#         return (talkydict.args[0])(args[1:])\n",
    "#     else:\n",
    "#         return None\n",
    "\n",
    "\n",
    "could not get this, so I just looked up Reuven’s solution"
   ]
  },
  {
   "cell_type": "code",
   "execution_count": 23,
   "metadata": {},
   "outputs": [
    {
     "ename": "AttributeError",
     "evalue": "'dict' object has no attribute 'args'",
     "output_type": "error",
     "traceback": [
      "\u001b[0;31m---------------------------------------------------------------------------\u001b[0m",
      "\u001b[0;31mAttributeError\u001b[0m                            Traceback (most recent call last)",
      "\u001b[0;32m<ipython-input-23-87a45290eebe>\u001b[0m in \u001b[0;36m<module>\u001b[0;34m\u001b[0m\n\u001b[0;32m----> 1\u001b[0;31m \u001b[0mhi_or_sum\u001b[0m\u001b[0;34m(\u001b[0m\u001b[0;34m'addnums'\u001b[0m\u001b[0;34m,\u001b[0m \u001b[0;36m2\u001b[0m\u001b[0;34m,\u001b[0m \u001b[0;36m3\u001b[0m\u001b[0;34m)\u001b[0m\u001b[0;34m\u001b[0m\u001b[0;34m\u001b[0m\u001b[0m\n\u001b[0m",
      "\u001b[0;32m<ipython-input-22-2de752ad0bf5>\u001b[0m in \u001b[0;36mhi_or_sum\u001b[0;34m(*args)\u001b[0m\n\u001b[1;32m     19\u001b[0m \u001b[0;32mdef\u001b[0m \u001b[0mhi_or_sum\u001b[0m\u001b[0;34m(\u001b[0m\u001b[0;34m*\u001b[0m\u001b[0margs\u001b[0m\u001b[0;34m)\u001b[0m\u001b[0;34m:\u001b[0m\u001b[0;34m\u001b[0m\u001b[0;34m\u001b[0m\u001b[0m\n\u001b[1;32m     20\u001b[0m     \u001b[0;32mif\u001b[0m \u001b[0margs\u001b[0m\u001b[0;34m[\u001b[0m\u001b[0;36m0\u001b[0m\u001b[0;34m]\u001b[0m \u001b[0;32min\u001b[0m \u001b[0mtalkydict\u001b[0m\u001b[0;34m:\u001b[0m\u001b[0;34m\u001b[0m\u001b[0;34m\u001b[0m\u001b[0m\n\u001b[0;32m---> 21\u001b[0;31m         \u001b[0;32mreturn\u001b[0m \u001b[0mtalkydict\u001b[0m\u001b[0;34m.\u001b[0m\u001b[0margs\u001b[0m\u001b[0;34m[\u001b[0m\u001b[0;36m0\u001b[0m\u001b[0;34m]\u001b[0m\u001b[0;34m(\u001b[0m\u001b[0margs\u001b[0m\u001b[0;34m[\u001b[0m\u001b[0;36m1\u001b[0m\u001b[0;34m:\u001b[0m\u001b[0;34m]\u001b[0m\u001b[0;34m)\u001b[0m\u001b[0;34m\u001b[0m\u001b[0;34m\u001b[0m\u001b[0m\n\u001b[0m\u001b[1;32m     22\u001b[0m     \u001b[0;32melse\u001b[0m\u001b[0;34m:\u001b[0m\u001b[0;34m\u001b[0m\u001b[0;34m\u001b[0m\u001b[0m\n\u001b[1;32m     23\u001b[0m         \u001b[0;32mreturn\u001b[0m \u001b[0;32mNone\u001b[0m\u001b[0;34m\u001b[0m\u001b[0;34m\u001b[0m\u001b[0m\n",
      "\u001b[0;31mAttributeError\u001b[0m: 'dict' object has no attribute 'args'"
     ]
    }
   ],
   "source": [
    "hi_or_sum('addnums', 2, 3)"
   ]
  },
  {
   "cell_type": "code",
   "execution_count": null,
   "metadata": {},
   "outputs": [],
   "source": []
  }
 ],
 "metadata": {
  "kernelspec": {
   "display_name": "Python 3",
   "language": "python",
   "name": "python3"
  },
  "language_info": {
   "codemirror_mode": {
    "name": "ipython",
    "version": 3
   },
   "file_extension": ".py",
   "mimetype": "text/x-python",
   "name": "python",
   "nbconvert_exporter": "python",
   "pygments_lexer": "ipython3",
   "version": "3.7.6"
  }
 },
 "nbformat": 4,
 "nbformat_minor": 4
}
