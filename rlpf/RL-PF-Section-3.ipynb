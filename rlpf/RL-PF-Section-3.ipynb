{
 "cells": [
  {
   "cell_type": "markdown",
   "metadata": {},
   "source": [
    "1. Write a function (mysum) that takes a list or tuple of numbers and returns the sum of those numbers. (don't use the built in sum function)\n",
    "\n",
    "2. Write a functions (minmax) that takes a list or tuple of numbers and returns a 2-element tuple containing the minimum and maximum numbers found among these inputs. (Dont use the builtin min and max)\n",
    "\n",
    "3. Write calc that takes 3 arguments: two numbers and then a string that will contain + and - and * and / the third argument will default to + if nothing is passed. return the result of invoking the appropriat operation on the two numbers\n",
    "\n",
    "4. Write filestats that takes a filename and returns a dictionary with four keys. the keys will be vowels consonants digits and other . the function will open the named file and return in the dict the number of vowels consonants digits and other characters it found in the file."
   ]
  },
  {
   "cell_type": "code",
   "execution_count": 11,
   "metadata": {},
   "outputs": [],
   "source": [
    "def mysum(something):\n",
    "    sum_of_numbers = 0\n",
    "    for one_number in something:\n",
    "        sum_of_numbers += one_number\n",
    "    return sum_of_numbers"
   ]
  },
  {
   "cell_type": "code",
   "execution_count": 12,
   "metadata": {},
   "outputs": [
    {
     "data": {
      "text/plain": [
       "107"
      ]
     },
     "execution_count": 12,
     "metadata": {},
     "output_type": "execute_result"
    }
   ],
   "source": [
    "mysum((2,4,101))"
   ]
  },
  {
   "cell_type": "code",
   "execution_count": 17,
   "metadata": {},
   "outputs": [],
   "source": [
    "def minmax(something):\n",
    "    smallest = None\n",
    "    largest = None\n",
    "    \n",
    "    for each_number in something:\n",
    "        if smallest is None:\n",
    "            smallest = each_number\n",
    "        if largest is None:\n",
    "            largest = each_number\n",
    "        if each_number < smallest:\n",
    "            smallest = each_number\n",
    "        if each_number > largest:\n",
    "            largest = each_number\n",
    "    return smallest, largest"
   ]
  },
  {
   "cell_type": "code",
   "execution_count": 18,
   "metadata": {},
   "outputs": [
    {
     "data": {
      "text/plain": [
       "(2, 10)"
      ]
     },
     "execution_count": 18,
     "metadata": {},
     "output_type": "execute_result"
    }
   ],
   "source": [
    "minmax((3, 9, 10, 2))"
   ]
  },
  {
   "cell_type": "code",
   "execution_count": 20,
   "metadata": {},
   "outputs": [],
   "source": [
    "def calc(num1, num2, operator='+'):\n",
    "    if operator == '+':\n",
    "        return num1 + num2\n",
    "    elif operator == '-':\n",
    "        return num1 - num2\n",
    "    elif operator == '*':\n",
    "        return num1 * num2\n",
    "    elif operator == \"/\":\n",
    "        return num1 / num2\n",
    "    else:\n",
    "        return 'Operator not recognised'"
   ]
  },
  {
   "cell_type": "code",
   "execution_count": 28,
   "metadata": {},
   "outputs": [
    {
     "data": {
      "text/plain": [
       "'Operator not recognised'"
      ]
     },
     "execution_count": 28,
     "metadata": {},
     "output_type": "execute_result"
    }
   ],
   "source": [
    "calc(2,2,'a')"
   ]
  },
  {
   "cell_type": "code",
   "execution_count": 39,
   "metadata": {},
   "outputs": [],
   "source": [
    "from string import ascii_letters\n",
    "\n",
    "def filestats(filename):\n",
    "    output = {\n",
    "        'vowels':0,\n",
    "        'consonants':0,\n",
    "        'digits':0,\n",
    "        'other':0\n",
    "        }\n",
    "    \n",
    "    for one_line in filename:\n",
    "        for one_char in one_line:\n",
    "            if one_char in 'aeiou':\n",
    "                output['vowels'] += 1\n",
    "            elif one_char in ascii_letters:\n",
    "                output['consonants'] += 1\n",
    "            elif one_char.isdigit():\n",
    "                output['digits'] += 1\n",
    "            else:\n",
    "                output['other'] += 1\n",
    "    return output\n",
    "            "
   ]
  },
  {
   "cell_type": "code",
   "execution_count": 40,
   "metadata": {},
   "outputs": [
    {
     "data": {
      "text/plain": [
       "{'vowels': 3, 'consonants': 8, 'digits': 0, 'other': 1}"
      ]
     },
     "execution_count": 40,
     "metadata": {},
     "output_type": "execute_result"
    }
   ],
   "source": [
    "filestats('testfile.txt')"
   ]
  },
  {
   "cell_type": "code",
   "execution_count": null,
   "metadata": {},
   "outputs": [],
   "source": []
  }
 ],
 "metadata": {
  "kernelspec": {
   "display_name": "Python 3",
   "language": "python",
   "name": "python3"
  },
  "language_info": {
   "codemirror_mode": {
    "name": "ipython",
    "version": 3
   },
   "file_extension": ".py",
   "mimetype": "text/x-python",
   "name": "python",
   "nbconvert_exporter": "python",
   "pygments_lexer": "ipython3",
   "version": "3.7.6"
  }
 },
 "nbformat": 4,
 "nbformat_minor": 4
}
