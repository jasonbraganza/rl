{
 "cells": [
  {
   "cell_type": "markdown",
   "metadata": {},
   "source": [
    "### Exercise 1.1"
   ]
  },
  {
   "cell_type": "code",
   "execution_count": 1,
   "metadata": {},
   "outputs": [],
   "source": [
    "class Scoop(object):\n",
    "    def __init__(self, flavour):\n",
    "        self.flavour = flavour"
   ]
  },
  {
   "cell_type": "code",
   "execution_count": 2,
   "metadata": {},
   "outputs": [],
   "source": [
    "s1 = Scoop('Chocolate')\n",
    "s2 = Scoop('Vanilla')\n",
    "s3 = Scoop('Blueberry')"
   ]
  },
  {
   "cell_type": "code",
   "execution_count": 3,
   "metadata": {},
   "outputs": [
    {
     "name": "stdout",
     "output_type": "stream",
     "text": [
      "Chocolate\n"
     ]
    }
   ],
   "source": [
    "print(s1.flavour)"
   ]
  },
  {
   "cell_type": "markdown",
   "metadata": {},
   "source": [
    "### Exercise 1.2"
   ]
  },
  {
   "cell_type": "code",
   "execution_count": 1,
   "metadata": {},
   "outputs": [],
   "source": [
    "class Person(object):\n",
    "    def __init__(self, name, email, phone_number):\n",
    "        self.name = name\n",
    "        self.email = email\n",
    "        self.phone_number = phone_number"
   ]
  },
  {
   "cell_type": "code",
   "execution_count": 6,
   "metadata": {},
   "outputs": [],
   "source": [
    "person1 = Person('Jane Doe', 'jane@doe.someemail', 123456789)\n",
    "person2 = Person('Jill Deer', 'jill@deer.leaps', 456789123)\n",
    "person3 = Person('Mary Fawn', 'mary@fawn.dashes', 321654987)"
   ]
  },
  {
   "cell_type": "code",
   "execution_count": 7,
   "metadata": {},
   "outputs": [],
   "source": [
    "people = [person1, person2, person3]"
   ]
  },
  {
   "cell_type": "code",
   "execution_count": 8,
   "metadata": {},
   "outputs": [
    {
     "name": "stdout",
     "output_type": "stream",
     "text": [
      "\n",
      "Name: Jane Doe\n",
      "Email: jane@doe.someemail\n",
      "Phone No. 123456789\n",
      "\n",
      "\n",
      "Name: Jill Deer\n",
      "Email: jill@deer.leaps\n",
      "Phone No. 456789123\n",
      "\n",
      "\n",
      "Name: Mary Fawn\n",
      "Email: mary@fawn.dashes\n",
      "Phone No. 321654987\n",
      "\n"
     ]
    }
   ],
   "source": [
    "for a_single_person in people:\n",
    "    print(f'''\n",
    "Name: {a_single_person.name}\n",
    "Email: {a_single_person.email}\n",
    "Phone No. {a_single_person.phone_number}\n",
    "''')"
   ]
  },
  {
   "cell_type": "code",
   "execution_count": 9,
   "metadata": {},
   "outputs": [],
   "source": [
    "person3.email = 'mary@fawn.jetskis'"
   ]
  },
  {
   "cell_type": "code",
   "execution_count": 10,
   "metadata": {},
   "outputs": [
    {
     "name": "stdout",
     "output_type": "stream",
     "text": [
      "\n",
      "Name: Jane Doe\n",
      "Email: jane@doe.someemail\n",
      "Phone No. 123456789\n",
      "\n",
      "\n",
      "Name: Jill Deer\n",
      "Email: jill@deer.leaps\n",
      "Phone No. 456789123\n",
      "\n",
      "\n",
      "Name: Mary Fawn\n",
      "Email: mary@fawn.jetskis\n",
      "Phone No. 321654987\n",
      "\n"
     ]
    }
   ],
   "source": [
    "for a_single_person in people:\n",
    "    print(f'''\n",
    "Name: {a_single_person.name}\n",
    "Email: {a_single_person.email}\n",
    "Phone No. {a_single_person.phone_number}\n",
    "''')"
   ]
  },
  {
   "cell_type": "markdown",
   "metadata": {},
   "source": [
    "### Exercise 1.3"
   ]
  },
  {
   "cell_type": "code",
   "execution_count": 34,
   "metadata": {},
   "outputs": [],
   "source": [
    "class BankAccount(object):\n",
    "    def __init__(self):\n",
    "        self.transactions = []"
   ]
  },
  {
   "cell_type": "code",
   "execution_count": 35,
   "metadata": {},
   "outputs": [
    {
     "name": "stdout",
     "output_type": "stream",
     "text": [
      "The number of transactions in account BA1 is 5 and the average amount is 2000.0\n"
     ]
    }
   ],
   "source": [
    "BA1 = BankAccount()\n",
    "BA1.transactions.append(1000)\n",
    "BA1.transactions.append(-500)\n",
    "BA1.transactions.append(4000)\n",
    "BA1.transactions.append(-2000)\n",
    "BA1.transactions.append(7500)\n",
    "print(f\"The number of transactions in account BA1 is {len(BA1.transactions)} and the average amount is {(sum(BA1.transactions))/len(BA1.transactions)}\")"
   ]
  },
  {
   "cell_type": "code",
   "execution_count": 36,
   "metadata": {},
   "outputs": [
    {
     "name": "stdout",
     "output_type": "stream",
     "text": [
      "The number of transactions in account BA2 is 5 and the average amount is 90.0\n"
     ]
    }
   ],
   "source": [
    "BA2 = BankAccount()\n",
    "BA2.transactions.append(100)\n",
    "BA2.transactions.append(200)\n",
    "BA2.transactions.append(250)\n",
    "BA2.transactions.append(600)\n",
    "BA2.transactions.append(-700)\n",
    "print(f\"The number of transactions in account BA2 is {len(BA2.transactions)} and the average amount is {(sum(BA2.transactions))/len(BA2.transactions)}\")"
   ]
  },
  {
   "cell_type": "code",
   "execution_count": null,
   "metadata": {},
   "outputs": [],
   "source": []
  }
 ],
 "metadata": {
  "kernelspec": {
   "display_name": "Python 3",
   "language": "python",
   "name": "python3"
  },
  "language_info": {
   "codemirror_mode": {
    "name": "ipython",
    "version": 3
   },
   "file_extension": ".py",
   "mimetype": "text/x-python",
   "name": "python",
   "nbconvert_exporter": "python",
   "pygments_lexer": "ipython3",
   "version": "3.7.6"
  }
 },
 "nbformat": 4,
 "nbformat_minor": 4
}
