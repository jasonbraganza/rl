{
 "cells": [
  {
   "cell_type": "markdown",
   "metadata": {},
   "source": [
    "### Exercise 5.1 & 5.2\n",
    "\n",
    "(1) Make it possible to run len() on our Bowl/BigBowl objects.  This\n",
    "    will report the number of scoops in a bowl.\n",
    "\n",
    "    b = Bowl()\n",
    "    b.add_scoops(s1, s2, s3)\n",
    "    len(b)  # return 3\n",
    "    \n",
    "(2) Make it possible to \"print\" our Scoop and Bowl.  If I say\n",
    "\n",
    "    print(s1)\n",
    "\n",
    "    it'll print\n",
    "\n",
    "    Scoop of chocolate\n",
    "\n",
    "    mylist = [s1, s2, s3]\n",
    "\n",
    "    print(mylist)\n",
    "\n",
    "     [Scoop of chocolate, Scoop of vanilla, Scoop of coffee]\n",
    "\n",
    "    print(b)\n",
    "\n",
    "    Bowl with:\n",
    "\t1) Scoop of chocolate\n",
    "\t2) Scoop of vanilla\n",
    "\t2) Scoop of coffee"
   ]
  },
  {
   "cell_type": "code",
   "execution_count": 32,
   "metadata": {},
   "outputs": [],
   "source": [
    "class Scoop(object):\n",
    "    def __init__(self, flavour):\n",
    "        self.flavour = flavour\n",
    "    def __repr__(self):\n",
    "        return (f'Scoop of {self.flavour}')\n",
    "\n",
    "\n",
    "class Bowl(object):\n",
    "    max_scoops = 3\n",
    "    def __init__(self):\n",
    "        self.scoops = []\n",
    "    def add_scoops(self, *args):\n",
    "            if len(self.scoops)+1 <= self.max_scoops:\n",
    "                self.scoops.extend(args)\n",
    "            else:\n",
    "                print('The bowl is full')\n",
    "    def __len__(self):\n",
    "        return(len(self.scoops))\n",
    "    def flavours(self):\n",
    "        for every_scoop in self.scoops:\n",
    "            print(every_scoop.flavour)\n",
    "            \n",
    "\n",
    "class BigBowl(Bowl):\n",
    "    max_scoops = 6"
   ]
  },
  {
   "cell_type": "code",
   "execution_count": 35,
   "metadata": {},
   "outputs": [],
   "source": [
    "s1 = Scoop('Chocolate')\n",
    "s2 = Scoop('Vanilla')\n",
    "s3 = Scoop('Blueberry')\n",
    "s4 = Scoop('Tender Coconut')\n",
    "\n",
    "bb = Bowl()\n",
    "bb.add_scoops(s1,s2, s4, s2)"
   ]
  },
  {
   "cell_type": "code",
   "execution_count": 39,
   "metadata": {},
   "outputs": [
    {
     "name": "stdout",
     "output_type": "stream",
     "text": [
      "Scoop of Tender Coconut\n"
     ]
    }
   ],
   "source": [
    "print(s4)"
   ]
  },
  {
   "cell_type": "code",
   "execution_count": 40,
   "metadata": {},
   "outputs": [
    {
     "data": {
      "text/plain": [
       "4"
      ]
     },
     "execution_count": 40,
     "metadata": {},
     "output_type": "execute_result"
    }
   ],
   "source": [
    "len(bb)"
   ]
  },
  {
   "cell_type": "markdown",
   "metadata": {},
   "source": [
    "### Exercise 5.3\n",
    "\n",
    "(3) Make len() and print() work on the Shopping Cart.  If I say\n",
    "    len(sc), it'll return the number of items in the cart.\n",
    "\n",
    "    print(sc)\n",
    "\n",
    "    It'll show each item in the cart -- name, per-unit price,\n",
    "    quantity, and total price for that item.  *PLUS* it'll show the\n",
    "    total price of all items\n",
    "\n",
    "    item1    2    $1    $2\n",
    "    item2    6    $3    $18\n",
    "    -----------------------\n",
    "    Total               $20"
   ]
  },
  {
   "cell_type": "code",
   "execution_count": 78,
   "metadata": {},
   "outputs": [
    {
     "data": {
      "text/plain": [
       "199.5"
      ]
     },
     "execution_count": 78,
     "metadata": {},
     "output_type": "execute_result"
    }
   ],
   "source": [
    "class ShoppingCart(object):\n",
    "    def __init__(self):\n",
    "        self.cart_items = {}\n",
    "    def add(self, name, price_per_item, quantity):\n",
    "        if name in self.cart_items:\n",
    "            old_items = self.cart_items[name]\n",
    "            ppi, old_qty = old_items\n",
    "            quantity += old_qty\n",
    "            self.cart_items[name]=(price_per_item, quantity)\n",
    "        else:\n",
    "            self.cart_items[name]=(price_per_item, quantity)\n",
    "    def total(self):\n",
    "        return sum([price*quantity for price, quantity in self.cart_items.values()])\n",
    "    def remove(self, name):\n",
    "        if name in self.cart_items:\n",
    "            price, quantity = self.cart_items[name]\n",
    "            if quantity == 1:\n",
    "                del self.cart_items[name]\n",
    "            else:\n",
    "                self.cart_items[name]=(price, quantity-1)\n",
    "        else:\n",
    "            print('Item Not in Cart')\n",
    "    def __len__(self):\n",
    "        return len(self.cart_items)\n",
    "    def __str__(self):\n",
    "        output = []\n",
    "        for name, info in self.cart_items.items():\n",
    "            price, quantity = info\n",
    "            output.append(f\"{name:20} {quantity:3} {price:3} {quantity*price:4}\")\n",
    "        output.append(f\"Total: {self.total():28}\")\n",
    "        return '\\n'.join(output)\n",
    "    \n",
    "class OnlineShoppingCart(ShoppingCart):\n",
    "    def total(self):\n",
    "        total = sum([price*quantity for price, quantity in self.cart_items.values()])\n",
    "        total = total + 10\n",
    "        total = (total*.05)+total\n",
    "        return total\n",
    "            \n",
    "# sc = ShoppingCart()\n",
    "# sc.add('LoTR', 20, 5)\n",
    "# sc.add('LoTR', 20, 1)\n",
    "# sc.add('Colgate Total', 80, 3)\n",
    "# sc.total()\n",
    "# sc.remove('Colgate Total')\n",
    "# sc.remove('Colgate Total')\n",
    "# sc.remove('Colgate Total')\n",
    "# sc.total()\n",
    "\n",
    "osc = OnlineShoppingCart()\n",
    "osc.add('LoTR', 20, 5)\n",
    "osc.add('Colgate Total', 80, 1)\n",
    "osc.total()"
   ]
  },
  {
   "cell_type": "code",
   "execution_count": 70,
   "metadata": {},
   "outputs": [
    {
     "data": {
      "text/plain": [
       "2"
      ]
     },
     "execution_count": 70,
     "metadata": {},
     "output_type": "execute_result"
    }
   ],
   "source": [
    "len(osc)"
   ]
  },
  {
   "cell_type": "code",
   "execution_count": 79,
   "metadata": {},
   "outputs": [
    {
     "name": "stdout",
     "output_type": "stream",
     "text": [
      "LoTR                   5  20  100\n",
      "Colgate Total          1  80   80\n",
      "Total:                          199.5\n"
     ]
    }
   ],
   "source": [
    "print(osc)"
   ]
  },
  {
   "cell_type": "code",
   "execution_count": null,
   "metadata": {},
   "outputs": [],
   "source": []
  }
 ],
 "metadata": {
  "kernelspec": {
   "display_name": "Python 3",
   "language": "python",
   "name": "python3"
  },
  "language_info": {
   "codemirror_mode": {
    "name": "ipython",
    "version": 3
   },
   "file_extension": ".py",
   "mimetype": "text/x-python",
   "name": "python",
   "nbconvert_exporter": "python",
   "pygments_lexer": "ipython3",
   "version": "3.7.6"
  }
 },
 "nbformat": 4,
 "nbformat_minor": 4
}
