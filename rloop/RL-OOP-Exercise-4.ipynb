{
 "cells": [
  {
   "cell_type": "markdown",
   "metadata": {},
   "source": [
    "### Exercise 4.1\n",
    "\n",
    "(1) Take our existing Person class, and add a subclass, called\n",
    "    VerbosePerson.  This class works the same way as Person, except that\n",
    "    the \"greet\" method doesn't just return \"Hello, NAME\" but rather\n",
    "    something longer than that."
   ]
  },
  {
   "cell_type": "code",
   "execution_count": 12,
   "metadata": {
    "scrolled": true
   },
   "outputs": [
    {
     "name": "stdout",
     "output_type": "stream",
     "text": [
      "Hello, Mario!\n",
      "\n",
      "Voilà! In view, a humble vaudevillian veteran, cast vicariously as both victim and villian by the vicissitudes of Fate. \n",
      "This visage, no mere veneer of vanity, is a vestige of the vox populi, \n",
      "now vacant, vanished. However, this valorous visitation of a by-gone vexation, \n",
      "stands vivified and has vowed to vanquish these venal and virulent vermin vanguarding vice \n",
      "and vouchsafing the violently vicious and voracious violation of volition. \n",
      "The only verdict is vengence; a vendetta, \n",
      "held as a votive, not in vain, \n",
      "for the value and veracity of such shall one day vindicate the vigilant and the virtuous.\n",
      "Verily, this vichyssoise of verbiage veers most verbose, \n",
      "so let me simply add that it is my very good honor to meet you, Jason \n",
      "and you may call me V.\n",
      "\n"
     ]
    }
   ],
   "source": [
    "class Person(object):\n",
    "    def __init__(self, name):\n",
    "        self.name = name\n",
    "    def greet(self):\n",
    "        print(f'Hello, {self.name}!')\n",
    "\n",
    "p1 = Person('Mario')\n",
    "p1.greet()\n",
    "\n",
    "class VerbosePerson(Person):\n",
    "    def __init__(self, name):\n",
    "        super().__init__(name)\n",
    "    def greet(self):\n",
    "        print(f'''\n",
    "Voilà! In view, a humble vaudevillian veteran, cast vicariously as both victim and villian by the vicissitudes of Fate. \n",
    "This visage, no mere veneer of vanity, is a vestige of the vox populi, \n",
    "now vacant, vanished. However, this valorous visitation of a by-gone vexation, \n",
    "stands vivified and has vowed to vanquish these venal and virulent vermin vanguarding vice \n",
    "and vouchsafing the violently vicious and voracious violation of volition. \n",
    "The only verdict is vengence; a vendetta, \n",
    "held as a votive, not in vain, \n",
    "for the value and veracity of such shall one day vindicate the vigilant and the virtuous.\n",
    "Verily, this vichyssoise of verbiage veers most verbose, \n",
    "so let me simply add that it is my very good honor to meet you, {self.name} \n",
    "and you may call me V.\n",
    "''')\n",
    "\n",
    "p2 = VerbosePerson('Jason')\n",
    "p2.greet()\n"
   ]
  },
  {
   "cell_type": "markdown",
   "metadata": {},
   "source": [
    "### Exercise 4.2\n",
    "(2) Take our existing ShoppingCart class.  Create a subclass called\n",
    "    OnlineShoppingCart.  In this case, the \"total\" method will add\n",
    "    another $10 + 5% of the total for shipping costs."
   ]
  },
  {
   "cell_type": "code",
   "execution_count": 20,
   "metadata": {},
   "outputs": [
    {
     "data": {
      "text/plain": [
       "115.5"
      ]
     },
     "execution_count": 20,
     "metadata": {},
     "output_type": "execute_result"
    }
   ],
   "source": [
    "class ShoppingCart(object):\n",
    "    def __init__(self):\n",
    "        self.cart_items = {}\n",
    "    def add(self, name, price_per_item, quantity):\n",
    "        if name in self.cart_items:\n",
    "            old_items = self.cart_items[name]\n",
    "            ppi, old_qty = old_items\n",
    "            quantity += old_qty\n",
    "            self.cart_items[name]=(price_per_item, quantity)\n",
    "        else:\n",
    "            self.cart_items[name]=(price_per_item, quantity)\n",
    "    def total(self):\n",
    "        return sum([price*quantity for price, quantity in self.cart_items.values()])\n",
    "    def remove(self, name):\n",
    "        if name in self.cart_items:\n",
    "            price, quantity = self.cart_items[name]\n",
    "            if quantity == 1:\n",
    "                del self.cart_items[name]\n",
    "            else:\n",
    "                self.cart_items[name]=(price, quantity-1)\n",
    "        else:\n",
    "            print('Item Not in Cart')\n",
    "\n",
    "class OnlineShoppingCart(ShoppingCart):\n",
    "    def total(self):\n",
    "        total = sum([price*quantity for price, quantity in self.cart_items.values()])\n",
    "        total = total + 10\n",
    "        total = (total*.05)+total\n",
    "        return total\n",
    "            \n",
    "# sc = ShoppingCart()\n",
    "# sc.add('LoTR', 20, 5)\n",
    "# sc.add('LoTR', 20, 1)\n",
    "# sc.add('Colgate Total', 80, 3)\n",
    "# sc.total()\n",
    "# sc.remove('Colgate Total')\n",
    "# sc.remove('Colgate Total')\n",
    "# sc.remove('Colgate Total')\n",
    "# sc.total()\n",
    "\n",
    "osc = OnlineShoppingCart()\n",
    "osc.add('LoTR', 20, 5)\n",
    "osc.total()\n",
    "\n"
   ]
  },
  {
   "cell_type": "markdown",
   "metadata": {},
   "source": [
    "### Exercise 4.3\n",
    "\n",
    "(3) Take our existing Bowl class (for ice cream), and create a\n",
    "    subclass called BigBowl.  A BigBowl is just like a Bowl, except\n",
    "    that it has a maximum of 5 scoops, not 3."
   ]
  },
  {
   "cell_type": "code",
   "execution_count": 84,
   "metadata": {},
   "outputs": [],
   "source": [
    "class Scoop(object):\n",
    "    def __init__(self, flavour):\n",
    "        self.flavour = flavour\n",
    "s1 = Scoop('Chocolate')\n",
    "s2 = Scoop('Vanilla')\n",
    "s3 = Scoop('Blueberry')\n",
    "s4 = Scoop('Tender Coconut')\n",
    "\n",
    "class Bowl(object):\n",
    "    max_scoops = 3\n",
    "    def __init__(self):\n",
    "        self.scoops = []\n",
    "    def add_scoops(self, *args):\n",
    "            if len(self.scoops)+1 <= self.max_scoops:\n",
    "                self.scoops.extend(args)\n",
    "            else:\n",
    "                print('The bowl is full')\n",
    "            \n",
    "    def flavours(self):\n",
    "        for every_scoop in self.scoops:\n",
    "            print(every_scoop.flavour)\n",
    "            \n",
    "class BigBowl(Bowl):\n",
    "    max_scoops = 6"
   ]
  },
  {
   "cell_type": "code",
   "execution_count": 95,
   "metadata": {},
   "outputs": [
    {
     "name": "stdout",
     "output_type": "stream",
     "text": [
      "Chocolate\n",
      "Vanilla\n",
      "Blueberry\n"
     ]
    }
   ],
   "source": [
    "bb = BigBowl()\n",
    "bb.add_scoops(s1,s2,s3)\n",
    "bb.flavours()"
   ]
  },
  {
   "cell_type": "code",
   "execution_count": 96,
   "metadata": {},
   "outputs": [],
   "source": [
    "bb.add_scoops(s1,s2,s3)"
   ]
  },
  {
   "cell_type": "code",
   "execution_count": 97,
   "metadata": {},
   "outputs": [
    {
     "name": "stdout",
     "output_type": "stream",
     "text": [
      "The bowl is full\n"
     ]
    }
   ],
   "source": [
    "bb.add_scoops(s1,s2,s3)"
   ]
  },
  {
   "cell_type": "code",
   "execution_count": null,
   "metadata": {},
   "outputs": [],
   "source": []
  }
 ],
 "metadata": {
  "kernelspec": {
   "display_name": "Python 3",
   "language": "python",
   "name": "python3"
  },
  "language_info": {
   "codemirror_mode": {
    "name": "ipython",
    "version": 3
   },
   "file_extension": ".py",
   "mimetype": "text/x-python",
   "name": "python",
   "nbconvert_exporter": "python",
   "pygments_lexer": "ipython3",
   "version": "3.7.6"
  }
 },
 "nbformat": 4,
 "nbformat_minor": 4
}
