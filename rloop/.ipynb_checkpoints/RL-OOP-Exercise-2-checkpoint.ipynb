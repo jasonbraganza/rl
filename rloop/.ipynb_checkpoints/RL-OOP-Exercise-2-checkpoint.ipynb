{
 "cells": [
  {
   "cell_type": "markdown",
   "metadata": {},
   "source": [
    "### Exercise 2.1"
   ]
  },
  {
   "cell_type": "code",
   "execution_count": 8,
   "metadata": {},
   "outputs": [],
   "source": [
    "class Scoop(object):\n",
    "    def __init__(self, flavour):\n",
    "        self.flavour = flavour"
   ]
  },
  {
   "cell_type": "code",
   "execution_count": 24,
   "metadata": {},
   "outputs": [],
   "source": [
    "s1 = Scoop('Chocolate')\n",
    "s2 = Scoop('Vanilla')\n",
    "s3 = Scoop('Blueberry')\n",
    "s4 = Scoop('Tender Coconut')"
   ]
  },
  {
   "cell_type": "code",
   "execution_count": 30,
   "metadata": {},
   "outputs": [
    {
     "name": "stdout",
     "output_type": "stream",
     "text": [
      "Tender Coconut\n"
     ]
    }
   ],
   "source": [
    "print(s4.flavour)"
   ]
  },
  {
   "cell_type": "code",
   "execution_count": 43,
   "metadata": {},
   "outputs": [],
   "source": [
    "class Bowl(object):\n",
    "    def __init__(self):\n",
    "        self.scoops = []\n",
    "    def add_scoops(self, *args):\n",
    "        self.scoops.extend(args)\n",
    "    def flavours(self):\n",
    "        for every_scoop in self.scoops:\n",
    "            print(every_scoop.flavour)"
   ]
  },
  {
   "cell_type": "code",
   "execution_count": 46,
   "metadata": {},
   "outputs": [
    {
     "name": "stdout",
     "output_type": "stream",
     "text": [
      "Chocolate\n",
      "Vanilla\n",
      "Blueberry\n",
      "Tender Coconut\n"
     ]
    }
   ],
   "source": [
    "Big_Bowl = Bowl()\n",
    "Big_Bowl.add_scoops(s1, s2, s3)\n",
    "Big_Bowl.add_scoops(s4)\n",
    "Big_Bowl.flavours()"
   ]
  },
  {
   "cell_type": "markdown",
   "metadata": {},
   "source": [
    "### Exercise 1.2\n",
    "\n",
    "(2) Use our existing Person and BankAccount classes.  Make it possible\n",
    "    for a person to have one or more bank accounts.  So we can say:\n",
    "\n",
    "    p1.add_account(ba1)\n",
    "    p1.add_account(ba2)\n",
    "\n",
    "    p1.all_balances()           # returns a list of floats representing balances\n",
    "    p1.current_total_balance()  # gives the total balance across all accounts\n",
    "    \n",
    "    p1.average_transaction_amount()  # returns the average amount of transactions across all accounts"
   ]
  },
  {
   "cell_type": "code",
   "execution_count": 203,
   "metadata": {},
   "outputs": [],
   "source": [
    "class BankAccount(object):\n",
    "    def __init__(self):\n",
    "        self.transactions = []\n",
    "        \n",
    "class Person(object):\n",
    "    def __init__(self, name):\n",
    "        self.name = name\n",
    "        self.accounts = []\n",
    "    def add_account(self, *args):\n",
    "        self.accounts.extend(args)\n",
    "    def all_balances(self):\n",
    "        return [sum(one_account.transactions) for one_account in self.accounts]\n",
    "    def current_total_balance(self):\n",
    "        return sum(self.all_balances())\n",
    "    def average_transaction_amount(self):\n",
    "        all_transactions = [one_transaction\n",
    "                            for one_account in self.accounts\n",
    "                            for one_transaction in one_account.transactions]\n",
    "        return sum(all_transactions)/len(all_transactions)"
   ]
  },
  {
   "cell_type": "code",
   "execution_count": 204,
   "metadata": {},
   "outputs": [],
   "source": [
    "b1 = BankAccount()\n",
    "b1.transactions.append(100)\n",
    "b1.transactions.append(500)\n",
    "b1.transactions.append(620)\n",
    "b1.transactions.append(375)\n",
    "b1.transactions.append(-225)\n",
    "\n",
    "b2 = BankAccount()\n",
    "b2.transactions.append(1000)\n",
    "b2.transactions.append(4000)\n",
    "b2.transactions.append(6000)\n",
    "b2.transactions.append(-750)\n",
    "b2.transactions.append(-250)\n"
   ]
  },
  {
   "cell_type": "code",
   "execution_count": 205,
   "metadata": {},
   "outputs": [
    {
     "data": {
      "text/plain": [
       "[1370, 10000]"
      ]
     },
     "execution_count": 205,
     "metadata": {},
     "output_type": "execute_result"
    }
   ],
   "source": [
    "p1 = Person('Jane Doe')\n",
    "p1.add_account(b1, b2)\n",
    "p1.all_balances()"
   ]
  },
  {
   "cell_type": "code",
   "execution_count": 206,
   "metadata": {},
   "outputs": [
    {
     "data": {
      "text/plain": [
       "11370"
      ]
     },
     "execution_count": 206,
     "metadata": {},
     "output_type": "execute_result"
    }
   ],
   "source": [
    "p1.current_total_balance()"
   ]
  },
  {
   "cell_type": "code",
   "execution_count": 207,
   "metadata": {},
   "outputs": [
    {
     "data": {
      "text/plain": [
       "1137.0"
      ]
     },
     "execution_count": 207,
     "metadata": {},
     "output_type": "execute_result"
    }
   ],
   "source": [
    "p1.average_transaction_amount()"
   ]
  },
  {
   "cell_type": "markdown",
   "metadata": {},
   "source": [
    "### Exercise 1.3\n",
    "\n",
    "(3) Create a ShoppingCart class.\n",
    "\n",
    "    sc = ShoppingCart()\n",
    "    sc.add('book', 30, 1)    # name, price-per-unit, quantity\n",
    "    sc.add('toothbrush', 3, 4)\n",
    "\n",
    "    sc.remove('toothbrush')   # removes one toothbrush -- or removes\n",
    "                              # the item altogether if the quantity is 0\n",
    "    \n",
    "    sc.total()  # returns the total price of items in the shopping cart"
   ]
  },
  {
   "cell_type": "code",
   "execution_count": 37,
   "metadata": {},
   "outputs": [
    {
     "name": "stdout",
     "output_type": "stream",
     "text": [
      "Item Not in Cart\n"
     ]
    },
    {
     "data": {
      "text/plain": [
       "120"
      ]
     },
     "execution_count": 37,
     "metadata": {},
     "output_type": "execute_result"
    }
   ],
   "source": [
    "class ShoppingCart(object):\n",
    "    def __init__(self):\n",
    "        self.cart_items = {}\n",
    "    def add(self, name, price_per_item, quantity):\n",
    "        if name in self.cart_items:\n",
    "            old_items = self.cart_items[name]\n",
    "            ppi, old_qty = old_items\n",
    "            quantity += old_qty\n",
    "            self.cart_items[name]=(price_per_item, quantity)\n",
    "        else:\n",
    "            self.cart_items[name]=(price_per_item, quantity)\n",
    "    def total(self):\n",
    "        return sum([price*quantity for price, quantity in self.cart_items.values()])\n",
    "    def remove(self, name):\n",
    "        if name in self.cart_items:\n",
    "            quantity = 0\n",
    "            old_items = self.cart_items[name]\n",
    "            ppi, old_qty = old_items\n",
    "            quantity = old_qty - 1\n",
    "            if quantity == 1:\n",
    "                del self.cart_items[name]\n",
    "            else:\n",
    "                self.cart_items[name]=(ppi, quantity)\n",
    "        else:\n",
    "            print('Item Not in Cart')\n",
    "\n",
    "sc = ShoppingCart()\n",
    "sc.add('LoTR', 20, 5)\n",
    "sc.add('LoTR', 20, 1)\n",
    "sc.add('Colgate Total', 80, 3)\n",
    "sc.total()\n",
    "\n",
    "sc.remove('Colgate Total')\n",
    "sc.remove('Colgate Total')\n",
    "sc.remove('Colgate Total')\n",
    "sc.remove('Colgate Total')\n",
    "\n",
    "\n",
    "sc.total()"
   ]
  },
  {
   "cell_type": "code",
   "execution_count": null,
   "metadata": {},
   "outputs": [],
   "source": []
  }
 ],
 "metadata": {
  "kernelspec": {
   "display_name": "Python 3",
   "language": "python",
   "name": "python3"
  },
  "language_info": {
   "codemirror_mode": {
    "name": "ipython",
    "version": 3
   },
   "file_extension": ".py",
   "mimetype": "text/x-python",
   "name": "python",
   "nbconvert_exporter": "python",
   "pygments_lexer": "ipython3",
   "version": "3.7.6"
  }
 },
 "nbformat": 4,
 "nbformat_minor": 4
}
