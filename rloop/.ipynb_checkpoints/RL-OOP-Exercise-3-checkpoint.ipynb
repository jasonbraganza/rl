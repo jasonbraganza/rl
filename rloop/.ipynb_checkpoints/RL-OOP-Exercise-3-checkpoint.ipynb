{
 "cells": [
  {
   "cell_type": "markdown",
   "metadata": {},
   "source": [
    "### Exercise 3.1\n",
    "\n",
    "(1) Modify the Bowl class, such that adding a new scoop to the bowl\n",
    "    will only work if you have fewer than 3 scoops.  In other words: max 3\n",
    "    scoops per bowl.\n",
    "\n",
    "    Adding a new scoop to a bowl that is already full will be silently\n",
    "    ignored."
   ]
  },
  {
   "cell_type": "code",
   "execution_count": 12,
   "metadata": {},
   "outputs": [],
   "source": [
    "class Scoop(object):\n",
    "    def __init__(self, flavour):\n",
    "        self.flavour = flavour\n",
    "s1 = Scoop('Chocolate')\n",
    "s2 = Scoop('Vanilla')\n",
    "s3 = Scoop('Blueberry')\n",
    "s4 = Scoop('Tender Coconut')\n",
    "\n",
    "class Bowl(object):\n",
    "    def __init__(self):\n",
    "        self.scoops = []\n",
    "    def add_scoops(self, *args):\n",
    "            if len(self.scoops) <= 3:\n",
    "                self.scoops.extend(args)\n",
    "            else:\n",
    "                print('The bowl is full')\n",
    "            \n",
    "    def flavours(self):\n",
    "        for every_scoop in self.scoops:\n",
    "            print(every_scoop.flavour)\n",
    "    "
   ]
  },
  {
   "cell_type": "code",
   "execution_count": 13,
   "metadata": {},
   "outputs": [],
   "source": [
    "Big_Bowl = Bowl()\n",
    "Big_Bowl.add_scoops(s1, s2, s3)"
   ]
  },
  {
   "cell_type": "code",
   "execution_count": 14,
   "metadata": {},
   "outputs": [
    {
     "data": {
      "text/plain": [
       "{'scoops': [<__main__.Scoop at 0x7fa13c4b0110>,\n",
       "  <__main__.Scoop at 0x7fa13434e6d0>,\n",
       "  <__main__.Scoop at 0x7fa1349d2c10>],\n",
       " 'is_it_full_yet': 0}"
      ]
     },
     "execution_count": 14,
     "metadata": {},
     "output_type": "execute_result"
    }
   ],
   "source": [
    "vars(Big_Bowl)"
   ]
  },
  {
   "cell_type": "markdown",
   "metadata": {},
   "source": [
    "### Exercise 3.2  \n",
    "\n",
    "(2) Create a Loan class. Each time someone creates a new Loan, it's\n",
    "    for a certain amount of money.  That money is taken from the\n",
    "    bank's available assets.\n",
    "\n",
    "    l1 = Loan(500)\n",
    "    l2 = Loan(200)\n",
    "    l3 = Loan(700)  # raises an exception -- ValueError to indicate no money\n",
    "    l1.repay(500)\n",
    "    l3 = Loan(700)  # now it'll work, because the bank has sufficient funds"
   ]
  },
  {
   "cell_type": "code",
   "execution_count": null,
   "metadata": {},
   "outputs": [],
   "source": []
  }
 ],
 "metadata": {
  "kernelspec": {
   "display_name": "Python 3",
   "language": "python",
   "name": "python3"
  },
  "language_info": {
   "codemirror_mode": {
    "name": "ipython",
    "version": 3
   },
   "file_extension": ".py",
   "mimetype": "text/x-python",
   "name": "python",
   "nbconvert_exporter": "python",
   "pygments_lexer": "ipython3",
   "version": "3.7.6"
  }
 },
 "nbformat": 4,
 "nbformat_minor": 4
}
