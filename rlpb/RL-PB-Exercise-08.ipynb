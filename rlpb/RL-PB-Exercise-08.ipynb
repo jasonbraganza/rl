{
 "cells": [
  {
   "cell_type": "markdown",
   "metadata": {},
   "source": [
    "### Exercise 8.1\n",
    "\n",
    "The Dollar Store!  \n",
    "Many items! One price!  \n",
    "\n",
    "Create a set of strings of products in our store.  \n",
    "Ask the user in a loop what they want to buy.  \n",
    "If empty string, quit and give them the total.  \n",
    "If they type something that we got then add a dollar to the total.  \n",
    "If we don’t carry it, tell them so.  "
   ]
  },
  {
   "cell_type": "code",
   "execution_count": 6,
   "metadata": {},
   "outputs": [
    {
     "name": "stdout",
     "output_type": "stream",
     "text": [
      "Welcome to the Thrift Store! Everything is just a dollar!\n",
      "What do you want to buy? pen\n",
      "What do you want to buy? lights\n",
      "What do you want to buy? elephant\n",
      "Sorry, we don’t have elephant\n",
      "What do you want to buy? clock\n",
      "What do you want to buy? bongos\n",
      "Sorry, we don’t have bongos\n",
      "What do you want to buy? \n",
      "Your total is 3.\n"
     ]
    }
   ],
   "source": [
    "products = set()\n",
    "products.update(['pen', 'lights', 'soap', 'flowers', 'clock', 'notebook'])\n",
    "total = 0\n",
    "print('Welcome to the Thrift Store! Everything is just a dollar!')\n",
    "\n",
    "while True:\n",
    "    product = input('What do you want to buy? ').strip()\n",
    "    if not product:\n",
    "        break\n",
    "    if product in products:\n",
    "        total += 1\n",
    "    else:\n",
    "        print(f'Sorry, we don’t have {product}')\n",
    "        continue\n",
    "print(f'Your total is {total}.')"
   ]
  },
  {
   "cell_type": "markdown",
   "metadata": {},
   "source": [
    "### Exercise 8.2  \n",
    "\n",
    "Spelling Bee  \n",
    "\n",
    "Collection of 7 letters  \n",
    "Make as many words as possible with those \n",
    "if string empty, stop\n",
    "\n",
    "if string contains letters from there applaud, if not say boo"
   ]
  },
  {
   "cell_type": "code",
   "execution_count": 17,
   "metadata": {},
   "outputs": [
    {
     "name": "stdout",
     "output_type": "stream",
     "text": [
      "Enter a word (upto 7 letters): kate\n",
      "Hurrah!\n",
      "Enter a word (upto 7 letters): aceidi\n",
      "Boo!\n",
      "Enter a word (upto 7 letters): ret\n",
      "Hurrah!\n",
      "Enter a word (upto 7 letters): ska\n",
      "Hurrah!\n",
      "Enter a word (upto 7 letters): skate\n",
      "Hurrah!\n",
      "Enter a word (upto 7 letters): skaters\n",
      "Hurrah!\n",
      "Enter a word (upto 7 letters): \n"
     ]
    }
   ],
   "source": [
    "letterset = set()\n",
    "letterset.update('skaters')\n",
    "\n",
    "while True:\n",
    "    word = input('Enter a word (upto 7 letters): ').strip()\n",
    "    if not word:\n",
    "        break\n",
    "    wordset = set()\n",
    "    wordset.update(word)\n",
    "    if wordset <= letterset:\n",
    "        print(f'Hurrah!')\n",
    "        continue\n",
    "    else:\n",
    "        print('Boo!')\n",
    "        continue"
   ]
  },
  {
   "cell_type": "code",
   "execution_count": null,
   "metadata": {},
   "outputs": [],
   "source": []
  }
 ],
 "metadata": {
  "kernelspec": {
   "display_name": "Python 3",
   "language": "python",
   "name": "python3"
  },
  "language_info": {
   "codemirror_mode": {
    "name": "ipython",
    "version": 3
   },
   "file_extension": ".py",
   "mimetype": "text/x-python",
   "name": "python",
   "nbconvert_exporter": "python",
   "pygments_lexer": "ipython3",
   "version": "3.7.6"
  }
 },
 "nbformat": 4,
 "nbformat_minor": 4
}
