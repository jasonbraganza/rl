{
 "cells": [
  {
   "cell_type": "markdown",
   "metadata": {},
   "source": [
    "### Exercise 6.1\n",
    "\n",
    "Ask the user repeatedly for name & last name \n",
    "\n",
    "then create a list of tuples, that will give have \n",
    "[(last name, first name), (last name, first name)]\n",
    "\n",
    "Print peoples names last name first, sorted by last name.\n",
    "\n",
    "Empty string (hitting return) stops the name capture loop and and prints the list"
   ]
  },
  {
   "cell_type": "code",
   "execution_count": 15,
   "metadata": {
    "scrolled": true
   },
   "outputs": [
    {
     "name": "stdout",
     "output_type": "stream",
     "text": [
      "Please enter your name seperated by a space: neuhtnsaoeuh\n",
      "There was no space between names. Did you type the full name, seperated by a space?\n",
      "Please enter your name seperated by a space: Lang Leav\n",
      "Please enter your name seperated by a space: Emily Dickinson\n",
      "Please enter your name seperated by a space: Maya Angelou\n",
      "Please enter your name seperated by a space: Audre Lorde\n",
      "Please enter your name seperated by a space: Sarojini Naidu\n",
      "Please enter your name seperated by a space: Mary Oliver\n",
      "Please enter your name seperated by a space: Kamala Suraiyya\n",
      "Please enter your name seperated by a space: \n",
      "Angelou Maya\n",
      "Dickinson Emily\n",
      "Leav Lang\n",
      "Lorde Audre\n",
      "Naidu Sarojini\n",
      "Oliver Mary\n",
      "Suraiyya Kamala\n"
     ]
    }
   ],
   "source": [
    "namelist = []\n",
    "\n",
    "while True:\n",
    "    name = input('Please enter your name seperated by a space: ').strip()\n",
    "    if not name:\n",
    "        break\n",
    "\n",
    "    if ' ' not in name:\n",
    "        print('There was no space between names. Did you type the full name, seperated by a space?')\n",
    "        continue\n",
    "    \n",
    "    first, last = name.split()\n",
    "    namelist.append((last, first))\n",
    "    \n",
    "for last, first in sorted(namelist):\n",
    "    print(last, first)\n",
    "    "
   ]
  },
  {
   "cell_type": "code",
   "execution_count": null,
   "metadata": {},
   "outputs": [],
   "source": []
  }
 ],
 "metadata": {
  "kernelspec": {
   "display_name": "Python 3",
   "language": "python",
   "name": "python3"
  }
 },
 "nbformat": 4,
 "nbformat_minor": 4
}
