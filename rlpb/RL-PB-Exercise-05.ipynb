{
 "cells": [
  {
   "cell_type": "markdown",
   "metadata": {},
   "source": [
    "### Exercise 5.1  \n",
    "  \n",
    "Ask the user repeatedly to enter a number  \n",
    "If user enters an empty string, stop asking.  \n",
    "Print the sum and mean of all the numbers entered so far.  "
   ]
  },
  {
   "cell_type": "code",
   "execution_count": 9,
   "metadata": {},
   "outputs": [
    {
     "name": "stdout",
     "output_type": "stream",
     "text": [
      "Enter a number: 87\n",
      "Enter a number: 5\n",
      "Enter a number: 64\n",
      "Enter a number: 76554\n",
      "Enter a number: \n",
      "The sum of all fears … sorry, numbers is: 76710\n",
      "The average of everything you entered is: 19177.5\n"
     ]
    }
   ],
   "source": [
    "numlist = []\n",
    "\n",
    "while True:\n",
    "    inputelement = input('Enter a number: ')\n",
    "    if not inputelement:\n",
    "        break\n",
    "    numlist.append(int(inputelement))\n",
    "\n",
    "print(f'The sum of all fears … sorry, numbers is: {sum(numlist)}')\n",
    "print(f'The average of everything you entered is: {sum(numlist)/len(numlist):2}')\n",
    "\n"
   ]
  },
  {
   "cell_type": "markdown",
   "metadata": {},
   "source": [
    "### Exercise 5.2\n",
    "\n",
    "Make a Pig Latin translator that takes in a sentence and spits out the Pig Latin version\n",
    "Note: No punctuation or capital letters.\n",
    "\n",
    "Pig Latin\n",
    "\n",
    "    If the letter starts with a vowel add way to the end\n",
    "        octupus becomes octopusway\n",
    "        idiot becomes idiotway\n",
    "        apple becomes appleway\n",
    "\n",
    "    If the letter starts with a consonant, move the beginning letter to the end and add ay\n",
    "        letter becomes etterlay\n",
    "        starts becomes tartssay\n"
   ]
  },
  {
   "cell_type": "code",
   "execution_count": 19,
   "metadata": {},
   "outputs": [
    {
     "name": "stdout",
     "output_type": "stream",
     "text": [
      "Gimme a phrase: ninna luna moon musical box\n",
      "innanay unalay oonmay usicalmay oxbay\n"
     ]
    }
   ],
   "source": [
    "sentence = input('Gimme a phrase: ').strip().split()\n",
    "pig_sentence=[]\n",
    "\n",
    "for word in sentence:\n",
    "    if word[0] in 'aeiou':\n",
    "        word=word+'way'\n",
    "        pig_sentence.append(word)\n",
    "    else:\n",
    "        word=word[1:]+word[0]+'ay'\n",
    "        pig_sentence.append(word)\n",
    "\n",
    "print (' '.join(pig_sentence))"
   ]
  },
  {
   "cell_type": "code",
   "execution_count": null,
   "metadata": {},
   "outputs": [],
   "source": []
  }
 ],
 "metadata": {
  "kernelspec": {
   "display_name": "Python 3",
   "language": "python",
   "name": "python3"
  },
  "language_info": {
   "codemirror_mode": {
    "name": "ipython",
    "version": 3
   },
   "file_extension": ".py",
   "mimetype": "text/x-python",
   "name": "python",
   "nbconvert_exporter": "python",
   "pygments_lexer": "ipython3",
   "version": "3.7.6"
  }
 },
 "nbformat": 4,
 "nbformat_minor": 4
}
