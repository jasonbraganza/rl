{
 "cells": [
  {
   "cell_type": "markdown",
   "metadata": {},
   "source": [
    "Ask the user what the weather is\n",
    "and then\n",
    "1. if rain or snow, say something negative\n",
    "2. if sun, say something positive\n",
    "3. if neither, say you don’t know"
   ]
  },
  {
   "cell_type": "code",
   "execution_count": 4,
   "metadata": {},
   "outputs": [
    {
     "name": "stdout",
     "output_type": "stream",
     "text": [
      "What’s the weather like today? sun\n",
      "Hurray! Perfect time for a picnic!\n"
     ]
    }
   ],
   "source": [
    "weather = input('What’s the weather like today? ')\n",
    "if weather == 'rain' or weather == 'snow':\n",
    "    print('Aww! Looks like we’re sitting at home.')\n",
    "elif weather == 'sun':\n",
    "    print('Hurray! Perfect time for a picnic!')\n",
    "else:\n",
    "    print('Well, we can always read a book :)')"
   ]
  },
  {
   "cell_type": "code",
   "execution_count": null,
   "metadata": {},
   "outputs": [],
   "source": []
  }
 ],
 "metadata": {
  "kernelspec": {
   "display_name": "Python 3",
   "language": "python",
   "name": "python3"
  },
  "language_info": {
   "codemirror_mode": {
    "name": "ipython",
    "version": 3
   },
   "file_extension": ".py",
   "mimetype": "text/x-python",
   "name": "python",
   "nbconvert_exporter": "python",
   "pygments_lexer": "ipython3",
   "version": "3.7.6"
  }
 },
 "nbformat": 4,
 "nbformat_minor": 4
}
