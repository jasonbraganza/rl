{
 "cells": [
  {
   "cell_type": "markdown",
   "metadata": {},
   "source": [
    "### Exercise 3.1\n",
    "\n",
    "**Pig Latin**\n",
    "\n",
    "1. If the letter starts with a vowel add way to the end  \n",
    "  \n",
    "    - octupus becomes octopusway  \n",
    "    - idiot becomes idiotway  \n",
    "    - apple becomes appleway  \n",
    "    \n",
    "2. If the letter starts with a consonant, move the beginning letter to the end and add ay  \n",
    " \n",
    "    - letter becomes etterlay\n",
    "    - starts becomes tartssay\n",
    "\n",
    "ask the user to enter one word and print the translation in Pig Latin\n",
    "no punctuation, no capitals"
   ]
  },
  {
   "cell_type": "code",
   "execution_count": 27,
   "metadata": {},
   "outputs": [
    {
     "name": "stdout",
     "output_type": "stream",
     "text": [
      "Enter a word to translate into Pig Latin: test\n",
      "esttay\n"
     ]
    }
   ],
   "source": [
    "word = input('Enter a word to translate into Pig Latin: ')\n",
    "vowel = ('a','e','i','o','u')\n",
    "\n",
    "if word[0] in 'aeiou':\n",
    "    print(word+'way')\n",
    "else:\n",
    "    print(word[1:]+word[0]+'ay')\n"
   ]
  },
  {
   "cell_type": "code",
   "execution_count": null,
   "metadata": {},
   "outputs": [],
   "source": []
  }
 ],
 "metadata": {
  "kernelspec": {
   "display_name": "Python 3",
   "language": "python",
   "name": "python3"
  },
  "language_info": {
   "codemirror_mode": {
    "name": "ipython",
    "version": 3
   },
   "file_extension": ".py",
   "mimetype": "text/x-python",
   "name": "python",
   "nbconvert_exporter": "python",
   "pygments_lexer": "ipython3",
   "version": "3.7.6"
  }
 },
 "nbformat": 4,
 "nbformat_minor": 4
}
