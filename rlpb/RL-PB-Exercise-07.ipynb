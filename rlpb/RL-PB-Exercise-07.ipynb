{
 "cells": [
  {
   "cell_type": "markdown",
   "metadata": {},
   "source": [
    "### Exercise 7.1\n",
    "\n",
    "Create a dictionary containing a restaurant menu  \n",
    "The items are keys  \n",
    "the prices are values  \n",
    "  \n",
    "ask the customer repeatedly what they want to order  \n",
    "if blank, stop asking and total up the bill  \n",
    "if they ask for something on the menu, print cost and add to total  \n",
    "if they ask for something not on the menu, say sorry, we don’t carry and ask again  "
   ]
  },
  {
   "cell_type": "code",
   "execution_count": 6,
   "metadata": {},
   "outputs": [
    {
     "name": "stdout",
     "output_type": "stream",
     "text": [
      "What sandwich or beverage would you like to order? croissant\n",
      "We don’t carry croissant. Sorry.\n",
      "What sandwich or beverage would you like to order? jumbo ham\n",
      "jumbo ham costs 150. Total is 150\n",
      "What sandwich or beverage would you like to order? coffee\n",
      "coffee costs 20. Total is 170\n",
      "What sandwich or beverage would you like to order? \n",
      "Total is 170. Thank you for your custom!\n"
     ]
    }
   ],
   "source": [
    "menu = {\n",
    "    'chicken': 50,\n",
    "    'jumbo ham': 150,\n",
    "    'veg': 20,\n",
    "    'masala': 40,\n",
    "    'cheese chilli': 30,\n",
    "    'tea': 12,\n",
    "    'coffee': 20,\n",
    "    'cola': 25\n",
    "}\n",
    "\n",
    "total = 0\n",
    "\n",
    "while True:\n",
    "    order = input(\"What sandwich or beverage would you like to order? \").strip()\n",
    "    if not order:\n",
    "        break\n",
    "    if order in menu:\n",
    "        total = total + menu[order]\n",
    "        print(f'{order} costs {menu[order]}. Total is {total}')\n",
    "    else:\n",
    "        print(f'We don’t carry {order}. Sorry.')\n",
    "        \n",
    "print(f'Total is {total}. Thank you for your custom!')\n"
   ]
  },
  {
   "cell_type": "markdown",
   "metadata": {},
   "source": [
    "### Exercise 7.2\n",
    "\n",
    "ask the user: what city?  \n",
    "how much rain?  \n",
    "  \n",
    "in a loop, until empty  \n",
    "  \n",
    "then total up all the rain in each respective city and print them.  "
   ]
  },
  {
   "cell_type": "code",
   "execution_count": 11,
   "metadata": {},
   "outputs": [
    {
     "name": "stdout",
     "output_type": "stream",
     "text": [
      "What city? thane\n",
      "How much rainfall? 77\n",
      "What city? thane\n",
      "How much rainfall? 70\n",
      "What city? mumbai\n",
      "How much rainfall? 88\n",
      "What city? \n",
      "The total rain in thane was 147 mm\n",
      "The total rain in mumbai was 88 mm\n"
     ]
    }
   ],
   "source": [
    "cityrain = {}\n",
    "\n",
    "while True:\n",
    "    city = input('What city? ')\n",
    "    if not city:\n",
    "        break\n",
    "    rain = int(input('How much rainfall? '))\n",
    "    if city in cityrain:\n",
    "        cityrain[city]+=rain\n",
    "    else:\n",
    "        cityrain[city]=rain\n",
    "        \n",
    "for city, rain in cityrain.items():\n",
    "    print(f'The total rain in {city} was {rain} mm')"
   ]
  },
  {
   "cell_type": "code",
   "execution_count": null,
   "metadata": {},
   "outputs": [],
   "source": []
  }
 ],
 "metadata": {
  "kernelspec": {
   "display_name": "Python 3",
   "language": "python",
   "name": "python3"
  },
  "language_info": {
   "codemirror_mode": {
    "name": "ipython",
    "version": 3
   },
   "file_extension": ".py",
   "mimetype": "text/x-python",
   "name": "python",
   "nbconvert_exporter": "python",
   "pygments_lexer": "ipython3",
   "version": "3.7.6"
  }
 },
 "nbformat": 4,
 "nbformat_minor": 4
}
