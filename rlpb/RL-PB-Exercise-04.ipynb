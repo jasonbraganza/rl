{
 "cells": [
  {
   "cell_type": "markdown",
   "metadata": {},
   "source": [
    "### Exercise 4.1\n",
    "Ask the user to enter a number (integer)\n",
    "Ask them to enter their name.\n",
    "Print their name that many number of times"
   ]
  },
  {
   "cell_type": "code",
   "execution_count": 2,
   "metadata": {},
   "outputs": [
    {
     "name": "stdout",
     "output_type": "stream",
     "text": [
      "Name multiplier!\n",
      "Type in your name: jason\n",
      "How many times do you want to see it printed?: 8\n",
      "jason\n",
      "jason\n",
      "jason\n",
      "jason\n",
      "jason\n",
      "jason\n",
      "jason\n",
      "jason\n"
     ]
    }
   ],
   "source": [
    "print('Name multiplier!')\n",
    "name = input('Type in your name: ')\n",
    "multiplier = int(input('How many times do you want to see it printed?: '))\n",
    "\n",
    "for num in range(multiplier):\n",
    "    print(name)"
   ]
  },
  {
   "cell_type": "markdown",
   "metadata": {},
   "source": [
    "### Exercise 4.2\n",
    "Ask the user to enter their name. Print their name triangle  \n",
    "M  \n",
    "Ma  \n",
    "Mar  \n",
    "Mari  \n",
    "Mario  "
   ]
  },
  {
   "cell_type": "code",
   "execution_count": 9,
   "metadata": {},
   "outputs": [
    {
     "name": "stdout",
     "output_type": "stream",
     "text": [
      "Type in your name: abby\n",
      "a\n",
      "ab\n",
      "abb\n",
      "abby\n"
     ]
    }
   ],
   "source": [
    "name = input('Type in your name: ')\n",
    "\n",
    "for num in range(len(name)):\n",
    "    print(name[0:num+1])\n"
   ]
  },
  {
   "cell_type": "code",
   "execution_count": null,
   "metadata": {},
   "outputs": [],
   "source": []
  }
 ],
 "metadata": {
  "kernelspec": {
   "display_name": "Python 3",
   "language": "python",
   "name": "python3"
  },
  "language_info": {
   "codemirror_mode": {
    "name": "ipython",
    "version": 3
   },
   "file_extension": ".py",
   "mimetype": "text/x-python",
   "name": "python",
   "nbconvert_exporter": "python",
   "pygments_lexer": "ipython3",
   "version": "3.7.6"
  }
 },
 "nbformat": 4,
 "nbformat_minor": 4
}
