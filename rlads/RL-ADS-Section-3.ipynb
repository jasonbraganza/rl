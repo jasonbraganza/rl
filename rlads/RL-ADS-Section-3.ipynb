{
 "cells": [
  {
   "cell_type": "markdown",
   "metadata": {},
   "source": [
    "Create a \"Book\" namedtuple that has the attributes title, author, and\n",
    "price.  Ask the user to create any number of books by entering a\n",
    "comma-separated string.  If the user enters an empty string, then stop asking.\n",
    "\n",
    "This should create a list of Book objects, which we'll consider to be\n",
    "a shopping cart.  Iterate over the list, printing each element as if\n",
    "it were a receipt from a store.  Then print the total price of the books."
   ]
  },
  {
   "cell_type": "code",
   "execution_count": 24,
   "metadata": {},
   "outputs": [
    {
     "name": "stdout",
     "output_type": "stream",
     "text": [
      "Enter a book title, author and price, seperated by commas : \n",
      "Your total for 0 books is, 0\n"
     ]
    }
   ],
   "source": [
    "from collections import namedtuple\n",
    "\n",
    "Book = namedtuple('Book', ['title', 'author', 'price'])\n",
    "\n",
    "bookcart = []\n",
    "carttotal = 0\n",
    "\n",
    "while True:\n",
    "    bookdetails = input('Enter a book title, author and price, seperated by commas : ')\n",
    "    \n",
    "    if not bookdetails:\n",
    "        break\n",
    "    else:\n",
    "        splitbookdetails = bookdetails.split(',')\n",
    "        book = Book(title=splitbookdetails[0].strip(), author=splitbookdetails[1].strip(), price=int(splitbookdetails[2]))\n",
    "        bookcart.append(book)\n",
    "\n",
    "for each_book in bookcart:\n",
    "    carttotal += each_book.price\n",
    "\n",
    "print(f'Your total for {len(bookcart)} books is, {carttotal}')\n",
    "    "
   ]
  },
  {
   "cell_type": "markdown",
   "metadata": {},
   "source": [
    "(1) In a loop, ask the user to enter the name of a day and something\n",
    "    they typically do on that day.  (For example: \"Sunday Brunch\").\n",
    "    The day's name will be separated from the rest by whitespace.\n",
    "    Using defaultdict, use this input to create a dict of lists, in\n",
    "    which the day is the key and the value is a list of things done on\n",
    "    that day.  Print the resulting dict, showing each day and the\n",
    "    tasks you do on each one.  (Don't worry about the order in which\n",
    "    days are displayed.)"
   ]
  },
  {
   "cell_type": "code",
   "execution_count": 27,
   "metadata": {},
   "outputs": [
    {
     "name": "stdout",
     "output_type": "stream",
     "text": [
      "Gimme a day, then tell me what’ll you do that day: Sunday Plan the week\n",
      "Gimme a day, then tell me what’ll you do that day: Saturday Siesta\n",
      "Gimme a day, then tell me what’ll you do that day: Friday Walk\n",
      "Gimme a day, then tell me what’ll you do that day: Thursday Exercise\n",
      "Gimme a day, then tell me what’ll you do that day: Tuesday Work\n",
      "Gimme a day, then tell me what’ll you do that day: Monday Work\n",
      "Gimme a day, then tell me what’ll you do that day: Wednesday Work\n",
      "Gimme a day, then tell me what’ll you do that day: Sunday Movie\n",
      "Gimme a day, then tell me what’ll you do that day: Monday SSS\n",
      "Gimme a day, then tell me what’ll you do that day: \n"
     ]
    }
   ],
   "source": [
    "from collections import defaultdict\n",
    "\n",
    "tasklist = defaultdict(list)\n",
    "while True:\n",
    "    tasks = input(\"Gimme a day, then tell me what’ll you do that day: \").strip()\n",
    "    if not tasks:\n",
    "        break\n",
    "    day, task = tasks.split (maxsplit = 1)\n",
    "    tasklist[day].append(task)"
   ]
  },
  {
   "cell_type": "code",
   "execution_count": 28,
   "metadata": {},
   "outputs": [
    {
     "data": {
      "text/plain": [
       "defaultdict(list,\n",
       "            {'Sunday': ['Plan the week', 'Movie'],\n",
       "             'Saturday': ['Siesta'],\n",
       "             'Friday': ['Walk'],\n",
       "             'Thursday': ['Exercise'],\n",
       "             'Tuesday': ['Work'],\n",
       "             'Monday': ['Work', 'SSS'],\n",
       "             'Wednesday': ['Work']})"
      ]
     },
     "execution_count": 28,
     "metadata": {},
     "output_type": "execute_result"
    }
   ],
   "source": [
    "tasklist"
   ]
  },
  {
   "cell_type": "markdown",
   "metadata": {},
   "source": [
    "(2) Write a function that takes a filename.  The function should\n",
    "    return a Counter object whose keys are word lengths (integers),\n",
    "    and whose values are also integers -- the number of words in the\n",
    "    file with that length of word."
   ]
  },
  {
   "cell_type": "code",
   "execution_count": 29,
   "metadata": {},
   "outputs": [],
   "source": [
    "# totally copied this from Reuven’s solution\n",
    "\n",
    "from collections import Counter\n",
    "def frequency(filename):\n",
    "    return Counter([len(one_word)\n",
    "                        for one_word in open(filename).read().split()])"
   ]
  },
  {
   "cell_type": "code",
   "execution_count": 30,
   "metadata": {},
   "outputs": [
    {
     "data": {
      "text/plain": [
       "Counter({1: 52,\n",
       "         2: 160,\n",
       "         3: 1420,\n",
       "         5: 10230,\n",
       "         4: 5272,\n",
       "         8: 29989,\n",
       "         7: 23869,\n",
       "         9: 32403,\n",
       "         6: 17706,\n",
       "         11: 26013,\n",
       "         10: 30878,\n",
       "         12: 20462,\n",
       "         14: 9765,\n",
       "         16: 3377,\n",
       "         15: 5925,\n",
       "         20: 198,\n",
       "         19: 428,\n",
       "         17: 1813,\n",
       "         13: 14939,\n",
       "         18: 842,\n",
       "         21: 82,\n",
       "         22: 41,\n",
       "         23: 17,\n",
       "         24: 5})"
      ]
     },
     "execution_count": 30,
     "metadata": {},
     "output_type": "execute_result"
    }
   ],
   "source": [
    "frequency('words.txt')"
   ]
  },
  {
   "cell_type": "markdown",
   "metadata": {},
   "source": [
    "We're going to produce a sales report, divided by month.\n",
    "\n",
    "First: Create a MonthEnum, containing the names of the months, which\n",
    "can also be sorted (from January - December).\n",
    "\n",
    "Then: Repeatedly ask the user to enter the name of a month and the\n",
    "amount that was made during that month, separated by whitespace, as in:\n",
    "\n",
    "    March 1500\n",
    "    April 2000\n",
    "    Jan 1000\n",
    "\n",
    "It's fine to name a month more than once.\n",
    "\n",
    "When the user enters an empty string, stop asking.\n",
    "\n",
    "Then display the amount earned per month, in month order (from January\n",
    "through December).  Missing months can show 0.\n"
   ]
  },
  {
   "cell_type": "code",
   "execution_count": 1,
   "metadata": {},
   "outputs": [
    {
     "name": "stdout",
     "output_type": "stream",
     "text": [
      "Enter month and amount: Jan 2000\n",
      "Enter month and amount: Dec 78000\n",
      "Enter month and amount: \n"
     ]
    }
   ],
   "source": [
    "from enum import Enum\n",
    "from collections import defaultdict\n",
    "\n",
    "class MonthEnums(Enum):\n",
    "    Jan = 1\n",
    "    Feb = 2\n",
    "    Mar = 3\n",
    "    Apr = 4 \n",
    "    May = 5\n",
    "    Jun = 6 \n",
    "    Jul = 7\n",
    "    Aug = 8\n",
    "    Sep = 9\n",
    "    Oct = 10\n",
    "    Nov = 11\n",
    "    Dec = 12\n",
    "\n",
    "income = defaultdict(int)    \n",
    "    \n",
    "while True:\n",
    "    monthly_income = input('Enter month and amount: ').strip()\n",
    "    if not monthly_income:\n",
    "        break\n",
    "    month, amount = monthly_income.split()\n",
    "    amount = int(amount)\n",
    "    month = MonthEnums[month]\n",
    "    \n",
    "    income[month] += amount\n",
    "    \n"
   ]
  },
  {
   "cell_type": "code",
   "execution_count": 36,
   "metadata": {},
   "outputs": [
    {
     "data": {
      "text/plain": [
       "defaultdict(int, {<MonthEnums.Jan: 1>: 2000, <MonthEnums.Dec: 12>: 78000})"
      ]
     },
     "execution_count": 36,
     "metadata": {},
     "output_type": "execute_result"
    }
   ],
   "source": [
    "income"
   ]
  },
  {
   "cell_type": "code",
   "execution_count": 3,
   "metadata": {},
   "outputs": [
    {
     "name": "stdout",
     "output_type": "stream",
     "text": [
      "Income for Jan, 2000\n",
      "Income for Feb, 0\n",
      "Income for Mar, 0\n",
      "Income for Apr, 0\n",
      "Income for May, 0\n",
      "Income for Jun, 0\n",
      "Income for Jul, 0\n",
      "Income for Aug, 0\n",
      "Income for Sep, 0\n",
      "Income for Oct, 0\n",
      "Income for Nov, 0\n",
      "Income for Dec, 78000\n"
     ]
    }
   ],
   "source": [
    "for one_month in MonthEnums:\n",
    "    print(f'Income for {one_month.name}, {income[one_month]}')"
   ]
  },
  {
   "cell_type": "code",
   "execution_count": null,
   "metadata": {},
   "outputs": [],
   "source": []
  }
 ],
 "metadata": {
  "kernelspec": {
   "display_name": "Python 3",
   "language": "python",
   "name": "python3"
  },
  "language_info": {
   "codemirror_mode": {
    "name": "ipython",
    "version": 3
   },
   "file_extension": ".py",
   "mimetype": "text/x-python",
   "name": "python",
   "nbconvert_exporter": "python",
   "pygments_lexer": "ipython3",
   "version": "3.7.6"
  }
 },
 "nbformat": 4,
 "nbformat_minor": 4
}
