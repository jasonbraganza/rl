{
 "cells": [
  {
   "cell_type": "code",
   "execution_count": 26,
   "metadata": {},
   "outputs": [],
   "source": [
    "# (1) Write a function \"firstlast\" that takes any sequence -- string, list,\n",
    "#     or tuple -- and returns a new object of the same type with only\n",
    "#     two elements, the first and last of those.  So:\n",
    "\n",
    "#     firstlast('abcd')               # returns 'ad'\n",
    "#     firstlast([10, 20, 30, 40, 50]) # returns [10, 50]\n",
    "#     firstlast((2,4,6))              # returns (2, 6)\n",
    "\n",
    "def firstlast(something):\n",
    "    return something[:1], something[-1:] \n",
    "\n",
    "# cheating after looking at Reuvens video. I earlier just returned positions 0 and -1 and that would only\n",
    "# return a tuple in every single case\n",
    "# now i am taking a slice. :1 means up 1 and not including one. -1: means the last element, -1 and then stop. \n",
    "# that slices the object and returns objects of the same type. if i slice a list, i get a list.  if i slice \n",
    "# a tuple, i get a tuple."
   ]
  },
  {
   "cell_type": "code",
   "execution_count": 27,
   "metadata": {},
   "outputs": [
    {
     "data": {
      "text/plain": [
       "(['mario'], ['abby'])"
      ]
     },
     "execution_count": 27,
     "metadata": {},
     "output_type": "execute_result"
    }
   ],
   "source": [
    "firstlast(['mario', 'jason', 'athena', 'abby'])"
   ]
  },
  {
   "cell_type": "code",
   "execution_count": 50,
   "metadata": {},
   "outputs": [
    {
     "name": "stdout",
     "output_type": "stream",
     "text": [
      "Gimme a word: test\n"
     ]
    },
    {
     "data": {
      "text/plain": [
       "'tubest'"
      ]
     },
     "execution_count": 50,
     "metadata": {},
     "output_type": "execute_result"
    }
   ],
   "source": [
    "# (2) Create a program that gets a single-word input from the user, and\n",
    "#     translates it into \"Ubbi Dubbi,\" a \"secret\" children's language.\n",
    "#     The idea in Ubbi Dubbi is that every vowel is preceded by \"ub\".\n",
    "#     Thus:\n",
    "\n",
    "#     banana -> bubanubanuba\n",
    "#     computer -> cubompubutuber\n",
    "#     ridiculous -> rubidubicubuluboubus\n",
    "\n",
    "#     You don't have to worry about capitalization or punctuation.\n",
    "\n",
    "word = input('Gimme a word: ')\n",
    "\n",
    "def ubbidubbi(x):\n",
    "    output = ''\n",
    "    for letter in word:\n",
    "        if letter in 'aeiou':\n",
    "            output+='ub'\n",
    "        output+=letter\n",
    "    return output\n",
    "\n",
    "ubbidubbi(word)"
   ]
  },
  {
   "cell_type": "code",
   "execution_count": 9,
   "metadata": {},
   "outputs": [],
   "source": [
    "# Write a function, \"dictdiff\", that takes two dictionaries as inputs\n",
    "# and returns a dictionary as output.  The returned dict will represent\n",
    "# the differences between the input dicts.\n",
    "\n",
    "# The output dict will contain any keys that differ, with a two-element\n",
    "# list representing the first and second dicts, and their values.\n",
    "\n",
    "# If a key exists in only one dict, then its value should be represented\n",
    "# as None.\n",
    "\n",
    "# d1 = {'a': 1, 'b': 2, 'c': 3}\n",
    "# d2 = {'a': 1, 'b': 2, 'c': 4}\n",
    "\n",
    "# print(dictdiff(d1, d1))\n",
    "# # prints {}\n",
    "\n",
    "# print(dictdiff(d1, d2))\n",
    "# # # # # # prints {'c': [3, 4]}\n",
    "\n",
    "# d1 = {'a': 1, 'b': 2, 'd': 3}\n",
    "# d2 = {'a': 1, 'b': 2, 'c': 4}\n",
    "\n",
    "# print(dictdiff(d1, d2))\n",
    "# # # # # # prints {'c': [None, 4], 'd': [3, None]}\n",
    "\n",
    "# d1 = {'a': 1, 'b': 2, 'c': 3}\n",
    "# d2 = {'a': 1, 'b': 2, 'd': 4}\n",
    "\n",
    "# print(dictdiff(d1, d2))\n",
    "# # # # prints {'c': [3, None], 'd': [None, 4]}\n",
    "\n",
    "# -----\n",
    "\n",
    "# What follows is me doing this after peeking at the solution. \n",
    "# My failed efforts are below.\n",
    "\n",
    "d1 = {'a': 1, 'b': 2, 'c': 3}\n",
    "d2 = {'a': 1, 'b': 2, 'c': 3}\n",
    "\n",
    "d3 = {'a': 1, 'b': 2, 'c': 3}\n",
    "d4 = {'a': 1, 'b': 2, 'c': 4}\n",
    "\n",
    "d5 = {'a': 1, 'b': 2, 'd': 3}\n",
    "d6 = {'a': 1, 'b': 2, 'c': 4}\n",
    "\n",
    "d7 = {'a': 1, 'b': 2, 'c': 3}\n",
    "d8 = {'a': 1, 'b': 2, 'd': 4}\n",
    "\n",
    "\n",
    "def dictdiff(dict1, dict2):\n",
    "    \n",
    "    output={}\n",
    "    \n",
    "    for each_key in dict1.keys() | dict2.keys():\n",
    "        v1 = dict1.get(each_key)\n",
    "        v2 = dict2.get(each_key)\n",
    "        if v1 != v2:\n",
    "            output[each_key]=[v1, v2]\n",
    "    return output\n",
    "\n",
    "\n",
    "\n",
    "# --- my unfinished work. gave up after 2 hours of trying ---\n",
    "\n",
    "# not because of something I forgot, but once again, because of something I did not know.\n",
    "# in this case that there are set operators to use between two iterator objects.\n",
    "# instead of crazily stepping through everything like I did below, I could’ve just created a union list \n",
    "# run through them.  \n",
    "# just goes to show, there is lots for me to learn\n",
    "\n",
    "# ----\n",
    "\n",
    "\n",
    "\n",
    "# def dictdiff(dictionary1, dictionary2):\n",
    "#     set1 = set(dictionary1)\n",
    "#     set2 = set(dictionary2)\n",
    "    \n",
    "#     results_dict = {}\n",
    "    \n",
    "#     if dictionary1 == dictionary2:\n",
    "#             return results_dict\n",
    "#     else:\n",
    "#         if set1 == set2:\n",
    "#             for key, value in dictionary1.items():\n",
    "#                 if dictionary1[key] != dictionary2[key]:\n",
    "#                     results_dict[key] = (dictionary1[key], dictionary2[key])\n",
    "#                     return results_dict\n",
    "#         else:\n",
    "#             key_differences = set1.symmetric_difference(set2)\n",
    "#             print(key_differences)\n",
    "#             for each_key in key_differences:\n",
    "#                 len(key_differences)\n",
    "                \n",
    "                \n",
    "#                 print (each_key)\n",
    "#                 values_list = []\n",
    "#                 if each_key in dictionary1:\n",
    "#                     values_list.append(dictionary1[each_key])\n",
    "#                 else:\n",
    "#                     values_list.append(None)\n",
    "#                 if each_key in dictionary2:\n",
    "#                     values_list.append(dictionary2[each_key])\n",
    "#                 else:\n",
    "#                     values_list.append(None)\n",
    "#                 results_dict[each_key] = values_list\n",
    "#                 return results_dict\n",
    "                \n",
    "#                 return key, values_list\n",
    "                  \n",
    "# --- had started with this approach before I turned to the code above\n",
    "            \n",
    "#     else:\n",
    "#         if set1 == set2:\n",
    "#             for key, value in dictionary2.items():\n",
    "#                 if dictionary2[key] != dictionary1[key]:\n",
    "#                     print(f\"{{ '{key}',  [{dictionary2[key]}, {dictionary1[key]}] }}\")\n",
    "#         else: \n",
    "#             for item in set1.symmetric_difference(set2):\n",
    "#                 if item in dictionary1 or item in dictionary2:\n",
    "                    \n",
    "            \n",
    "\n",
    "\n"
   ]
  },
  {
   "cell_type": "code",
   "execution_count": 10,
   "metadata": {},
   "outputs": [
    {
     "name": "stdout",
     "output_type": "stream",
     "text": [
      "{'d': [3, None], 'c': [None, 4]}\n"
     ]
    }
   ],
   "source": [
    "print(dictdiff(d5,d6))"
   ]
  },
  {
   "cell_type": "code",
   "execution_count": null,
   "metadata": {},
   "outputs": [],
   "source": []
  }
 ],
 "metadata": {
  "kernelspec": {
   "display_name": "Python 3",
   "language": "python",
   "name": "python3"
  },
  "language_info": {
   "codemirror_mode": {
    "name": "ipython",
    "version": 3
   },
   "file_extension": ".py",
   "mimetype": "text/x-python",
   "name": "python",
   "nbconvert_exporter": "python",
   "pygments_lexer": "ipython3",
   "version": "3.7.6"
  }
 },
 "nbformat": 4,
 "nbformat_minor": 4
}
